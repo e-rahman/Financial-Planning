{
 "cells": [
  {
   "cell_type": "markdown",
   "metadata": {},
   "source": [
    "# Unit 5 - Financial Planning"
   ]
  },
  {
   "cell_type": "code",
   "execution_count": 2,
   "metadata": {},
   "outputs": [],
   "source": [
    "# Initial imports\n",
    "import os\n",
    "import requests\n",
    "import json\n",
    "import pandas as pd\n",
    "from dotenv import load_dotenv\n",
    "import alpaca_trade_api as tradeapi\n",
    "from MCForecastTools import MCSimulation\n",
    "\n",
    "%matplotlib inline"
   ]
  },
  {
   "cell_type": "code",
   "execution_count": 35,
   "metadata": {},
   "outputs": [
    {
     "data": {
      "text/plain": [
       "True"
      ]
     },
     "execution_count": 35,
     "metadata": {},
     "output_type": "execute_result"
    }
   ],
   "source": [
    "# Load .env enviroment variables\n",
    "load_dotenv()"
   ]
  },
  {
   "cell_type": "markdown",
   "metadata": {},
   "source": [
    "## Part 1 - Personal Finance Planner"
   ]
  },
  {
   "cell_type": "markdown",
   "metadata": {},
   "source": [
    "### Collect Crypto Prices Using the `requests` Library"
   ]
  },
  {
   "cell_type": "code",
   "execution_count": 3,
   "metadata": {},
   "outputs": [],
   "source": [
    "# Set current amount of crypto assets\n",
    "my_btc = 1.2\n",
    "my_eth = 5.3"
   ]
  },
  {
   "cell_type": "code",
   "execution_count": 4,
   "metadata": {},
   "outputs": [],
   "source": [
    "# Create variable to hold Crypto API request urls\n",
    "btc_url = \"https://api.alternative.me/v2/ticker/Bitcoin/?convert=CAD?format=json\"\n",
    "eth_url = \"https://api.alternative.me/v2/ticker/Ethereum/?convert=CAD?format=json\""
   ]
  },
  {
   "cell_type": "code",
   "execution_count": 5,
   "metadata": {},
   "outputs": [
    {
     "data": {
      "text/plain": [
       "<Response [200]>"
      ]
     },
     "execution_count": 5,
     "metadata": {},
     "output_type": "execute_result"
    }
   ],
   "source": [
    "# Execute get request\n",
    "requests.get(btc_url)"
   ]
  },
  {
   "cell_type": "code",
   "execution_count": 6,
   "metadata": {},
   "outputs": [],
   "source": [
    "# Execute get request and store response\n",
    "btc_response_data = requests.get(btc_url)"
   ]
  },
  {
   "cell_type": "code",
   "execution_count": 7,
   "metadata": {},
   "outputs": [
    {
     "name": "stdout",
     "output_type": "stream",
     "text": [
      "b'{\\n\\t\"data\": {\\n\\t\\t\"1\": {\\n\\t\\t\\t\"id\": 1,\\n\\t\\t\\t\"name\": \"Bitcoin\",\\n\\t\\t\\t\"symbol\": \"BTC\",\\n\\t\\t\\t\"website_slug\": \"bitcoin\",\\n\\t\\t\\t\"rank\": 1,\\n\\t\\t\\t\"circulating_supply\": 18940125,\\n\\t\\t\\t\"total_supply\": 18940125,\\n\\t\\t\\t\"max_supply\": 21000000,\\n\\t\\t\\t\"quotes\": {\\n\\t\\t\\t\\t\"USD\": {\\n\\t\\t\\t\\t\\t\"price\": 37205.0000000000000000,\\n\\t\\t\\t\\t\\t\"volume_24h\": 45876451796,\\n\\t\\t\\t\\t\\t\"market_cap\": 701886385305,\\n\\t\\t\\t\\t\\t\"percentage_change_1h\": 0.5079262464152680,\\n\\t\\t\\t\\t\\t\"percentage_change_24h\": 2.6725647821028300,\\n\\t\\t\\t\\t\\t\"percentage_change_7d\": -12.2422641690257000,\\n\\t\\t\\t\\t\\t\"percent_change_1h\": 0.5079262464152680,\\n\\t\\t\\t\\t\\t\"percent_change_24h\": 2.6725647821028300,\\n\\t\\t\\t\\t\\t\"percent_change_7d\": -12.2422641690257000\\n\\t\\t\\t\\t}\\n\\t\\t\\t},\\n\\t\\t\\t\"last_updated\": 1643167436\\n\\t\\t}\\n\\t},\\n\\t\"metadata\": {\\n\\t\\t\"timestamp\": 1643167436,\\n\\t\\t\"num_cryptocurrencies\": 3105,\\n\\t\\t\"error\": null\\n\\t}\\n}'\n"
     ]
    }
   ],
   "source": [
    "# Get content\n",
    "btc_response_content = btc_response_data.content\n",
    "print(btc_response_content)"
   ]
  },
  {
   "cell_type": "code",
   "execution_count": 8,
   "metadata": {},
   "outputs": [
    {
     "name": "stdout",
     "output_type": "stream",
     "text": [
      "{'data': {'1': {'id': 1, 'name': 'Bitcoin', 'symbol': 'BTC', 'website_slug': 'bitcoin', 'rank': 1, 'circulating_supply': 18940125, 'total_supply': 18940125, 'max_supply': 21000000, 'quotes': {'USD': {'price': 37205.0, 'volume_24h': 45876451796, 'market_cap': 701886385305, 'percentage_change_1h': 0.507926246415268, 'percentage_change_24h': 2.67256478210283, 'percentage_change_7d': -12.2422641690257, 'percent_change_1h': 0.507926246415268, 'percent_change_24h': 2.67256478210283, 'percent_change_7d': -12.2422641690257}}, 'last_updated': 1643167436}}, 'metadata': {'timestamp': 1643167436, 'num_cryptocurrencies': 3105, 'error': None}}\n"
     ]
    }
   ],
   "source": [
    "# Use json function from json library to format\n",
    "btc_data = btc_response_data.json()\n",
    "print(btc_data)"
   ]
  },
  {
   "cell_type": "code",
   "execution_count": 9,
   "metadata": {},
   "outputs": [
    {
     "name": "stdout",
     "output_type": "stream",
     "text": [
      "37205.0\n"
     ]
    }
   ],
   "source": [
    "# Fetch current BTC price \n",
    "btc_price = btc_data['data']['1']['quotes']['USD']['price']\n",
    "print(btc_price)"
   ]
  },
  {
   "cell_type": "code",
   "execution_count": 10,
   "metadata": {},
   "outputs": [
    {
     "name": "stdout",
     "output_type": "stream",
     "text": [
      "44646.0\n"
     ]
    }
   ],
   "source": [
    "# Compute current BTC crypto value\n",
    "my_btc_value = btc_price * my_btc\n",
    "print(my_btc_value)"
   ]
  },
  {
   "cell_type": "code",
   "execution_count": 11,
   "metadata": {},
   "outputs": [
    {
     "name": "stdout",
     "output_type": "stream",
     "text": [
      "The current value of your 1.2 BTC is $44646.00\n"
     ]
    }
   ],
   "source": [
    "# Print current BTC crypto wallet balance\n",
    "print(f\"The current value of your {my_btc} BTC is ${my_btc_value:0.2f}\")"
   ]
  },
  {
   "cell_type": "code",
   "execution_count": 12,
   "metadata": {},
   "outputs": [
    {
     "data": {
      "text/plain": [
       "<Response [200]>"
      ]
     },
     "execution_count": 12,
     "metadata": {},
     "output_type": "execute_result"
    }
   ],
   "source": [
    "# Execute get request\n",
    "requests.get(eth_url)"
   ]
  },
  {
   "cell_type": "code",
   "execution_count": 13,
   "metadata": {},
   "outputs": [],
   "source": [
    "# Execute get request and store response\n",
    "eth_response_data = requests.get(eth_url)"
   ]
  },
  {
   "cell_type": "code",
   "execution_count": 14,
   "metadata": {},
   "outputs": [
    {
     "name": "stdout",
     "output_type": "stream",
     "text": [
      "b'{\\n\\t\"data\": {\\n\\t\\t\"1\": {\\n\\t\\t\\t\"id\": 1,\\n\\t\\t\\t\"name\": \"Bitcoin\",\\n\\t\\t\\t\"symbol\": \"BTC\",\\n\\t\\t\\t\"website_slug\": \"bitcoin\",\\n\\t\\t\\t\"rank\": 1,\\n\\t\\t\\t\"circulating_supply\": 18940125,\\n\\t\\t\\t\"total_supply\": 18940125,\\n\\t\\t\\t\"max_supply\": 21000000,\\n\\t\\t\\t\"quotes\": {\\n\\t\\t\\t\\t\"USD\": {\\n\\t\\t\\t\\t\\t\"price\": 37205.0000000000000000,\\n\\t\\t\\t\\t\\t\"volume_24h\": 45876451796,\\n\\t\\t\\t\\t\\t\"market_cap\": 701886385305,\\n\\t\\t\\t\\t\\t\"percentage_change_1h\": 0.5079262464152680,\\n\\t\\t\\t\\t\\t\"percentage_change_24h\": 2.6725647821028300,\\n\\t\\t\\t\\t\\t\"percentage_change_7d\": -12.2422641690257000,\\n\\t\\t\\t\\t\\t\"percent_change_1h\": 0.5079262464152680,\\n\\t\\t\\t\\t\\t\"percent_change_24h\": 2.6725647821028300,\\n\\t\\t\\t\\t\\t\"percent_change_7d\": -12.2422641690257000\\n\\t\\t\\t\\t}\\n\\t\\t\\t},\\n\\t\\t\\t\"last_updated\": 1643167436\\n\\t\\t}\\n\\t},\\n\\t\"metadata\": {\\n\\t\\t\"timestamp\": 1643167436,\\n\\t\\t\"num_cryptocurrencies\": 3105,\\n\\t\\t\"error\": null\\n\\t}\\n}'\n"
     ]
    }
   ],
   "source": [
    "# Get JSON content\n",
    "eth_response_content = eth_response_data.content\n",
    "print(btc_response_content)"
   ]
  },
  {
   "cell_type": "code",
   "execution_count": 15,
   "metadata": {},
   "outputs": [
    {
     "name": "stdout",
     "output_type": "stream",
     "text": [
      "{'data': {'1027': {'id': 1027, 'name': 'Ethereum', 'symbol': 'ETH', 'website_slug': 'ethereum', 'rank': 2, 'circulating_supply': 119313855, 'total_supply': 119313855, 'max_supply': 0, 'quotes': {'USD': {'price': 2473.67, 'volume_24h': 15712825545, 'market_cap': 293636864296, 'percentage_change_1h': 0.611042677942329, 'percentage_change_24h': 2.83639751874296, 'percentage_change_7d': -21.8788348727502, 'percent_change_1h': 0.611042677942329, 'percent_change_24h': 2.83639751874296, 'percent_change_7d': -21.8788348727502}}, 'last_updated': 1643167418}}, 'metadata': {'timestamp': 1643167418, 'num_cryptocurrencies': 3105, 'error': None}}\n"
     ]
    }
   ],
   "source": [
    "# Use JSON function from JSON library to format\n",
    "eth_data = eth_response_data.json()\n",
    "print(eth_data)"
   ]
  },
  {
   "cell_type": "code",
   "execution_count": 16,
   "metadata": {},
   "outputs": [
    {
     "name": "stdout",
     "output_type": "stream",
     "text": [
      "2473.67\n"
     ]
    }
   ],
   "source": [
    "# Fetch current ETH price\n",
    "eth_price = eth_data['data']['1027']['quotes']['USD']['price']\n",
    "print(eth_price)"
   ]
  },
  {
   "cell_type": "code",
   "execution_count": 17,
   "metadata": {},
   "outputs": [
    {
     "name": "stdout",
     "output_type": "stream",
     "text": [
      "13110.451\n"
     ]
    }
   ],
   "source": [
    "# Compute current ETH crypto value\n",
    "my_eth_value = eth_price * my_eth\n",
    "print(my_eth_value)"
   ]
  },
  {
   "cell_type": "code",
   "execution_count": 18,
   "metadata": {},
   "outputs": [
    {
     "name": "stdout",
     "output_type": "stream",
     "text": [
      "The current value of your 5.3 ETH is $13110.45\n"
     ]
    }
   ],
   "source": [
    "# Print current ETH crypto wallet balance\n",
    "print(f\"The current value of your {my_eth} ETH is ${my_eth_value:0.2f}\")"
   ]
  },
  {
   "cell_type": "markdown",
   "metadata": {},
   "source": [
    "### Collect Investments Data Using Alpaca: `SPY` (stocks) and `AGG` (bonds)"
   ]
  },
  {
   "cell_type": "code",
   "execution_count": 3,
   "metadata": {},
   "outputs": [],
   "source": [
    "# Set current amount of shares\n",
    "my_agg = 200\n",
    "my_spy = 50"
   ]
  },
  {
   "cell_type": "code",
   "execution_count": 11,
   "metadata": {},
   "outputs": [
    {
     "data": {
      "text/plain": [
       "True"
      ]
     },
     "execution_count": 11,
     "metadata": {},
     "output_type": "execute_result"
    }
   ],
   "source": [
    " # Load .env enviroment\n",
    "load_dotenv()"
   ]
  },
  {
   "cell_type": "code",
   "execution_count": 12,
   "metadata": {},
   "outputs": [],
   "source": [
    "# Set Alpaca API key and secret\n",
    "alpaca_api_key = os.getenv(\"ALPACA_API_KEY\")\n",
    "alpaca_secret_key = os.getenv(\"ALPACA_SECRET_KEY\")"
   ]
  },
  {
   "cell_type": "code",
   "execution_count": 13,
   "metadata": {},
   "outputs": [],
   "source": [
    "# Create the Alpaca API object\n",
    "api = tradeapi.REST(\n",
    "    alpaca_api_key,\n",
    "    alpaca_secret_key,\n",
    "    api_version=\"v2\"\n",
    ")"
   ]
  },
  {
   "cell_type": "code",
   "execution_count": 14,
   "metadata": {},
   "outputs": [],
   "source": [
    "# Format current date as ISO format\n",
    "today = pd.Timestamp(\"2022-01-23\", tz=\"America/New_York\").isoformat()"
   ]
  },
  {
   "cell_type": "code",
   "execution_count": 15,
   "metadata": {},
   "outputs": [],
   "source": [
    "# Set start and end datetimes of 1000 days from now, between now and 365 days ago\n",
    "start_date = pd.Timestamp(\"2021-01-24\", tz=\"America/New_York\").isoformat()\n",
    "end_date = pd.Timestamp(\"2022-01-24\", tz=\"America/New_York\").isoformat()"
   ]
  },
  {
   "cell_type": "code",
   "execution_count": 16,
   "metadata": {},
   "outputs": [],
   "source": [
    "# Set the tickers\n",
    "tickers = [\"AGG\", \"SPY\"]"
   ]
  },
  {
   "cell_type": "code",
   "execution_count": 17,
   "metadata": {},
   "outputs": [],
   "source": [
    "# Set timeframe to '1D'\n",
    "timeframe = \"1D\""
   ]
  },
  {
   "cell_type": "code",
   "execution_count": 18,
   "metadata": {},
   "outputs": [],
   "source": [
    "# Get current closing prices for SPY and AGG\n",
    "current_price = api.get_barset(\n",
    "    tickers,\n",
    "    timeframe,\n",
    "    start = start_date,\n",
    "    end = end_date,\n",
    "    limit = 1000\n",
    ").df"
   ]
  },
  {
   "cell_type": "code",
   "execution_count": 19,
   "metadata": {},
   "outputs": [
    {
     "data": {
      "text/html": [
       "<div>\n",
       "<style scoped>\n",
       "    .dataframe tbody tr th:only-of-type {\n",
       "        vertical-align: middle;\n",
       "    }\n",
       "\n",
       "    .dataframe tbody tr th {\n",
       "        vertical-align: top;\n",
       "    }\n",
       "\n",
       "    .dataframe thead tr th {\n",
       "        text-align: left;\n",
       "    }\n",
       "\n",
       "    .dataframe thead tr:last-of-type th {\n",
       "        text-align: right;\n",
       "    }\n",
       "</style>\n",
       "<table border=\"1\" class=\"dataframe\">\n",
       "  <thead>\n",
       "    <tr>\n",
       "      <th></th>\n",
       "      <th colspan=\"5\" halign=\"left\">AGG</th>\n",
       "      <th colspan=\"5\" halign=\"left\">SPY</th>\n",
       "    </tr>\n",
       "    <tr>\n",
       "      <th></th>\n",
       "      <th>open</th>\n",
       "      <th>high</th>\n",
       "      <th>low</th>\n",
       "      <th>close</th>\n",
       "      <th>volume</th>\n",
       "      <th>open</th>\n",
       "      <th>high</th>\n",
       "      <th>low</th>\n",
       "      <th>close</th>\n",
       "      <th>volume</th>\n",
       "    </tr>\n",
       "    <tr>\n",
       "      <th>time</th>\n",
       "      <th></th>\n",
       "      <th></th>\n",
       "      <th></th>\n",
       "      <th></th>\n",
       "      <th></th>\n",
       "      <th></th>\n",
       "      <th></th>\n",
       "      <th></th>\n",
       "      <th></th>\n",
       "      <th></th>\n",
       "    </tr>\n",
       "  </thead>\n",
       "  <tbody>\n",
       "    <tr>\n",
       "      <th>2021-01-25 00:00:00-05:00</th>\n",
       "      <td>117.3900</td>\n",
       "      <td>117.560</td>\n",
       "      <td>117.3600</td>\n",
       "      <td>117.54</td>\n",
       "      <td>3977366</td>\n",
       "      <td>383.67</td>\n",
       "      <td>384.77</td>\n",
       "      <td>378.46</td>\n",
       "      <td>384.40</td>\n",
       "      <td>61090775</td>\n",
       "    </tr>\n",
       "    <tr>\n",
       "      <th>2021-01-26 00:00:00-05:00</th>\n",
       "      <td>117.4600</td>\n",
       "      <td>117.585</td>\n",
       "      <td>117.4255</td>\n",
       "      <td>117.51</td>\n",
       "      <td>3451493</td>\n",
       "      <td>385.41</td>\n",
       "      <td>385.85</td>\n",
       "      <td>383.54</td>\n",
       "      <td>383.83</td>\n",
       "      <td>36871235</td>\n",
       "    </tr>\n",
       "    <tr>\n",
       "      <th>2021-01-27 00:00:00-05:00</th>\n",
       "      <td>117.6100</td>\n",
       "      <td>117.670</td>\n",
       "      <td>117.0400</td>\n",
       "      <td>117.52</td>\n",
       "      <td>3509666</td>\n",
       "      <td>380.22</td>\n",
       "      <td>380.32</td>\n",
       "      <td>372.01</td>\n",
       "      <td>374.44</td>\n",
       "      <td>99246554</td>\n",
       "    </tr>\n",
       "    <tr>\n",
       "      <th>2021-01-28 00:00:00-05:00</th>\n",
       "      <td>117.4800</td>\n",
       "      <td>117.490</td>\n",
       "      <td>117.2900</td>\n",
       "      <td>117.43</td>\n",
       "      <td>4440895</td>\n",
       "      <td>376.36</td>\n",
       "      <td>381.93</td>\n",
       "      <td>375.89</td>\n",
       "      <td>377.60</td>\n",
       "      <td>75229306</td>\n",
       "    </tr>\n",
       "    <tr>\n",
       "      <th>2021-01-29 00:00:00-05:00</th>\n",
       "      <td>117.1563</td>\n",
       "      <td>117.400</td>\n",
       "      <td>116.5625</td>\n",
       "      <td>117.32</td>\n",
       "      <td>7119889</td>\n",
       "      <td>375.63</td>\n",
       "      <td>376.67</td>\n",
       "      <td>368.27</td>\n",
       "      <td>370.19</td>\n",
       "      <td>106397082</td>\n",
       "    </tr>\n",
       "  </tbody>\n",
       "</table>\n",
       "</div>"
      ],
      "text/plain": [
       "                                AGG                                      \\\n",
       "                               open     high       low   close   volume   \n",
       "time                                                                      \n",
       "2021-01-25 00:00:00-05:00  117.3900  117.560  117.3600  117.54  3977366   \n",
       "2021-01-26 00:00:00-05:00  117.4600  117.585  117.4255  117.51  3451493   \n",
       "2021-01-27 00:00:00-05:00  117.6100  117.670  117.0400  117.52  3509666   \n",
       "2021-01-28 00:00:00-05:00  117.4800  117.490  117.2900  117.43  4440895   \n",
       "2021-01-29 00:00:00-05:00  117.1563  117.400  116.5625  117.32  7119889   \n",
       "\n",
       "                              SPY                                     \n",
       "                             open    high     low   close     volume  \n",
       "time                                                                  \n",
       "2021-01-25 00:00:00-05:00  383.67  384.77  378.46  384.40   61090775  \n",
       "2021-01-26 00:00:00-05:00  385.41  385.85  383.54  383.83   36871235  \n",
       "2021-01-27 00:00:00-05:00  380.22  380.32  372.01  374.44   99246554  \n",
       "2021-01-28 00:00:00-05:00  376.36  381.93  375.89  377.60   75229306  \n",
       "2021-01-29 00:00:00-05:00  375.63  376.67  368.27  370.19  106397082  "
      ]
     },
     "execution_count": 19,
     "metadata": {},
     "output_type": "execute_result"
    }
   ],
   "source": [
    "# Display sample data\n",
    "current_price.head()"
   ]
  },
  {
   "cell_type": "code",
   "execution_count": 20,
   "metadata": {},
   "outputs": [
    {
     "data": {
      "text/html": [
       "<div>\n",
       "<style scoped>\n",
       "    .dataframe tbody tr th:only-of-type {\n",
       "        vertical-align: middle;\n",
       "    }\n",
       "\n",
       "    .dataframe tbody tr th {\n",
       "        vertical-align: top;\n",
       "    }\n",
       "\n",
       "    .dataframe thead tr th {\n",
       "        text-align: left;\n",
       "    }\n",
       "\n",
       "    .dataframe thead tr:last-of-type th {\n",
       "        text-align: right;\n",
       "    }\n",
       "</style>\n",
       "<table border=\"1\" class=\"dataframe\">\n",
       "  <thead>\n",
       "    <tr>\n",
       "      <th></th>\n",
       "      <th colspan=\"5\" halign=\"left\">AGG</th>\n",
       "      <th colspan=\"5\" halign=\"left\">SPY</th>\n",
       "    </tr>\n",
       "    <tr>\n",
       "      <th></th>\n",
       "      <th>open</th>\n",
       "      <th>high</th>\n",
       "      <th>low</th>\n",
       "      <th>close</th>\n",
       "      <th>volume</th>\n",
       "      <th>open</th>\n",
       "      <th>high</th>\n",
       "      <th>low</th>\n",
       "      <th>close</th>\n",
       "      <th>volume</th>\n",
       "    </tr>\n",
       "    <tr>\n",
       "      <th>time</th>\n",
       "      <th></th>\n",
       "      <th></th>\n",
       "      <th></th>\n",
       "      <th></th>\n",
       "      <th></th>\n",
       "      <th></th>\n",
       "      <th></th>\n",
       "      <th></th>\n",
       "      <th></th>\n",
       "      <th></th>\n",
       "    </tr>\n",
       "  </thead>\n",
       "  <tbody>\n",
       "    <tr>\n",
       "      <th>2021-01-25 00:00:00-05:00</th>\n",
       "      <td>117.3900</td>\n",
       "      <td>117.560</td>\n",
       "      <td>117.3600</td>\n",
       "      <td>117.54</td>\n",
       "      <td>3977366</td>\n",
       "      <td>383.67</td>\n",
       "      <td>384.7700</td>\n",
       "      <td>378.46</td>\n",
       "      <td>384.40</td>\n",
       "      <td>61090775</td>\n",
       "    </tr>\n",
       "    <tr>\n",
       "      <th>2021-01-26 00:00:00-05:00</th>\n",
       "      <td>117.4600</td>\n",
       "      <td>117.585</td>\n",
       "      <td>117.4255</td>\n",
       "      <td>117.51</td>\n",
       "      <td>3451493</td>\n",
       "      <td>385.41</td>\n",
       "      <td>385.8500</td>\n",
       "      <td>383.54</td>\n",
       "      <td>383.83</td>\n",
       "      <td>36871235</td>\n",
       "    </tr>\n",
       "    <tr>\n",
       "      <th>2021-01-27 00:00:00-05:00</th>\n",
       "      <td>117.6100</td>\n",
       "      <td>117.670</td>\n",
       "      <td>117.0400</td>\n",
       "      <td>117.52</td>\n",
       "      <td>3509666</td>\n",
       "      <td>380.22</td>\n",
       "      <td>380.3200</td>\n",
       "      <td>372.01</td>\n",
       "      <td>374.44</td>\n",
       "      <td>99246554</td>\n",
       "    </tr>\n",
       "    <tr>\n",
       "      <th>2021-01-28 00:00:00-05:00</th>\n",
       "      <td>117.4800</td>\n",
       "      <td>117.490</td>\n",
       "      <td>117.2900</td>\n",
       "      <td>117.43</td>\n",
       "      <td>4440895</td>\n",
       "      <td>376.36</td>\n",
       "      <td>381.9300</td>\n",
       "      <td>375.89</td>\n",
       "      <td>377.60</td>\n",
       "      <td>75229306</td>\n",
       "    </tr>\n",
       "    <tr>\n",
       "      <th>2021-01-29 00:00:00-05:00</th>\n",
       "      <td>117.1563</td>\n",
       "      <td>117.400</td>\n",
       "      <td>116.5625</td>\n",
       "      <td>117.32</td>\n",
       "      <td>7119889</td>\n",
       "      <td>375.63</td>\n",
       "      <td>376.6700</td>\n",
       "      <td>368.27</td>\n",
       "      <td>370.19</td>\n",
       "      <td>106397082</td>\n",
       "    </tr>\n",
       "    <tr>\n",
       "      <th>...</th>\n",
       "      <td>...</td>\n",
       "      <td>...</td>\n",
       "      <td>...</td>\n",
       "      <td>...</td>\n",
       "      <td>...</td>\n",
       "      <td>...</td>\n",
       "      <td>...</td>\n",
       "      <td>...</td>\n",
       "      <td>...</td>\n",
       "      <td>...</td>\n",
       "    </tr>\n",
       "    <tr>\n",
       "      <th>2022-01-18 00:00:00-05:00</th>\n",
       "      <td>111.8100</td>\n",
       "      <td>111.860</td>\n",
       "      <td>111.4700</td>\n",
       "      <td>111.49</td>\n",
       "      <td>7390142</td>\n",
       "      <td>459.73</td>\n",
       "      <td>459.9600</td>\n",
       "      <td>455.31</td>\n",
       "      <td>456.53</td>\n",
       "      <td>95565773</td>\n",
       "    </tr>\n",
       "    <tr>\n",
       "      <th>2022-01-19 00:00:00-05:00</th>\n",
       "      <td>111.7000</td>\n",
       "      <td>111.890</td>\n",
       "      <td>111.6500</td>\n",
       "      <td>111.71</td>\n",
       "      <td>7641972</td>\n",
       "      <td>458.17</td>\n",
       "      <td>459.6124</td>\n",
       "      <td>451.46</td>\n",
       "      <td>451.79</td>\n",
       "      <td>95311817</td>\n",
       "    </tr>\n",
       "    <tr>\n",
       "      <th>2022-01-20 00:00:00-05:00</th>\n",
       "      <td>111.8400</td>\n",
       "      <td>111.900</td>\n",
       "      <td>111.7500</td>\n",
       "      <td>111.79</td>\n",
       "      <td>6861797</td>\n",
       "      <td>453.75</td>\n",
       "      <td>458.7400</td>\n",
       "      <td>444.50</td>\n",
       "      <td>446.79</td>\n",
       "      <td>105009751</td>\n",
       "    </tr>\n",
       "    <tr>\n",
       "      <th>2022-01-21 00:00:00-05:00</th>\n",
       "      <td>112.1900</td>\n",
       "      <td>112.350</td>\n",
       "      <td>112.1100</td>\n",
       "      <td>112.24</td>\n",
       "      <td>7792653</td>\n",
       "      <td>445.56</td>\n",
       "      <td>448.0600</td>\n",
       "      <td>437.97</td>\n",
       "      <td>438.11</td>\n",
       "      <td>174541929</td>\n",
       "    </tr>\n",
       "    <tr>\n",
       "      <th>2022-01-24 00:00:00-05:00</th>\n",
       "      <td>112.3814</td>\n",
       "      <td>112.420</td>\n",
       "      <td>112.1000</td>\n",
       "      <td>112.12</td>\n",
       "      <td>10666672</td>\n",
       "      <td>432.03</td>\n",
       "      <td>440.3800</td>\n",
       "      <td>420.76</td>\n",
       "      <td>439.88</td>\n",
       "      <td>233026938</td>\n",
       "    </tr>\n",
       "  </tbody>\n",
       "</table>\n",
       "<p>253 rows × 10 columns</p>\n",
       "</div>"
      ],
      "text/plain": [
       "                                AGG                                       \\\n",
       "                               open     high       low   close    volume   \n",
       "time                                                                       \n",
       "2021-01-25 00:00:00-05:00  117.3900  117.560  117.3600  117.54   3977366   \n",
       "2021-01-26 00:00:00-05:00  117.4600  117.585  117.4255  117.51   3451493   \n",
       "2021-01-27 00:00:00-05:00  117.6100  117.670  117.0400  117.52   3509666   \n",
       "2021-01-28 00:00:00-05:00  117.4800  117.490  117.2900  117.43   4440895   \n",
       "2021-01-29 00:00:00-05:00  117.1563  117.400  116.5625  117.32   7119889   \n",
       "...                             ...      ...       ...     ...       ...   \n",
       "2022-01-18 00:00:00-05:00  111.8100  111.860  111.4700  111.49   7390142   \n",
       "2022-01-19 00:00:00-05:00  111.7000  111.890  111.6500  111.71   7641972   \n",
       "2022-01-20 00:00:00-05:00  111.8400  111.900  111.7500  111.79   6861797   \n",
       "2022-01-21 00:00:00-05:00  112.1900  112.350  112.1100  112.24   7792653   \n",
       "2022-01-24 00:00:00-05:00  112.3814  112.420  112.1000  112.12  10666672   \n",
       "\n",
       "                              SPY                                       \n",
       "                             open      high     low   close     volume  \n",
       "time                                                                    \n",
       "2021-01-25 00:00:00-05:00  383.67  384.7700  378.46  384.40   61090775  \n",
       "2021-01-26 00:00:00-05:00  385.41  385.8500  383.54  383.83   36871235  \n",
       "2021-01-27 00:00:00-05:00  380.22  380.3200  372.01  374.44   99246554  \n",
       "2021-01-28 00:00:00-05:00  376.36  381.9300  375.89  377.60   75229306  \n",
       "2021-01-29 00:00:00-05:00  375.63  376.6700  368.27  370.19  106397082  \n",
       "...                           ...       ...     ...     ...        ...  \n",
       "2022-01-18 00:00:00-05:00  459.73  459.9600  455.31  456.53   95565773  \n",
       "2022-01-19 00:00:00-05:00  458.17  459.6124  451.46  451.79   95311817  \n",
       "2022-01-20 00:00:00-05:00  453.75  458.7400  444.50  446.79  105009751  \n",
       "2022-01-21 00:00:00-05:00  445.56  448.0600  437.97  438.11  174541929  \n",
       "2022-01-24 00:00:00-05:00  432.03  440.3800  420.76  439.88  233026938  \n",
       "\n",
       "[253 rows x 10 columns]"
      ]
     },
     "execution_count": 20,
     "metadata": {},
     "output_type": "execute_result"
    }
   ],
   "source": [
    "# Transform the function's response to a Pandas DataFrame and preview the data\n",
    "current_price = pd.DataFrame(current_price)\n",
    "current_price"
   ]
  },
  {
   "cell_type": "code",
   "execution_count": 62,
   "metadata": {},
   "outputs": [
    {
     "data": {
      "text/html": [
       "<div>\n",
       "<style scoped>\n",
       "    .dataframe tbody tr th:only-of-type {\n",
       "        vertical-align: middle;\n",
       "    }\n",
       "\n",
       "    .dataframe tbody tr th {\n",
       "        vertical-align: top;\n",
       "    }\n",
       "\n",
       "    .dataframe thead th {\n",
       "        text-align: right;\n",
       "    }\n",
       "</style>\n",
       "<table border=\"1\" class=\"dataframe\">\n",
       "  <thead>\n",
       "    <tr style=\"text-align: right;\">\n",
       "      <th></th>\n",
       "      <th>AGG</th>\n",
       "    </tr>\n",
       "  </thead>\n",
       "  <tbody>\n",
       "    <tr>\n",
       "      <th>2021-01-25</th>\n",
       "      <td>117.54</td>\n",
       "    </tr>\n",
       "    <tr>\n",
       "      <th>2021-01-26</th>\n",
       "      <td>117.51</td>\n",
       "    </tr>\n",
       "    <tr>\n",
       "      <th>2021-01-27</th>\n",
       "      <td>117.52</td>\n",
       "    </tr>\n",
       "    <tr>\n",
       "      <th>2021-01-28</th>\n",
       "      <td>117.43</td>\n",
       "    </tr>\n",
       "    <tr>\n",
       "      <th>2021-01-29</th>\n",
       "      <td>117.32</td>\n",
       "    </tr>\n",
       "  </tbody>\n",
       "</table>\n",
       "</div>"
      ],
      "text/plain": [
       "               AGG\n",
       "2021-01-25  117.54\n",
       "2021-01-26  117.51\n",
       "2021-01-27  117.52\n",
       "2021-01-28  117.43\n",
       "2021-01-29  117.32"
      ]
     },
     "execution_count": 62,
     "metadata": {},
     "output_type": "execute_result"
    }
   ],
   "source": [
    "# Create an empty DataFrame for closing prices\n",
    "agg_closing_price = pd.DataFrame()\n",
    "\n",
    "# Fetch AGG's current closing price from the DataFrame\n",
    "agg_closing_price[\"AGG\"] = current_price[\"AGG\"][\"close\"]\n",
    "\n",
    "# Drop the time component of the date\n",
    "agg_closing_price.index = agg_closing_price.index.date\n",
    "\n",
    "# Display AGG's closing prices\n",
    "agg_closing_price.head()"
   ]
  },
  {
   "cell_type": "code",
   "execution_count": 65,
   "metadata": {},
   "outputs": [
    {
     "name": "stdout",
     "output_type": "stream",
     "text": [
      "Current AGG closing price: $               AGG\n",
      "2021-01-25  117.54\n",
      "2021-01-26  117.51\n",
      "2021-01-27  117.52\n",
      "2021-01-28  117.43\n",
      "2021-01-29  117.32\n",
      "...            ...\n",
      "2022-01-18  111.49\n",
      "2022-01-19  111.71\n",
      "2022-01-20  111.79\n",
      "2022-01-21  112.24\n",
      "2022-01-24  112.12\n",
      "\n",
      "[253 rows x 1 columns]\n"
     ]
    }
   ],
   "source": [
    "# Print AGG current closing price\n",
    "print(f\"Current AGG closing price: ${agg_closing_price}\")"
   ]
  },
  {
   "cell_type": "code",
   "execution_count": 60,
   "metadata": {},
   "outputs": [
    {
     "data": {
      "text/html": [
       "<div>\n",
       "<style scoped>\n",
       "    .dataframe tbody tr th:only-of-type {\n",
       "        vertical-align: middle;\n",
       "    }\n",
       "\n",
       "    .dataframe tbody tr th {\n",
       "        vertical-align: top;\n",
       "    }\n",
       "\n",
       "    .dataframe thead th {\n",
       "        text-align: right;\n",
       "    }\n",
       "</style>\n",
       "<table border=\"1\" class=\"dataframe\">\n",
       "  <thead>\n",
       "    <tr style=\"text-align: right;\">\n",
       "      <th></th>\n",
       "      <th>SPY</th>\n",
       "    </tr>\n",
       "  </thead>\n",
       "  <tbody>\n",
       "    <tr>\n",
       "      <th>2021-01-25</th>\n",
       "      <td>384.40</td>\n",
       "    </tr>\n",
       "    <tr>\n",
       "      <th>2021-01-26</th>\n",
       "      <td>383.83</td>\n",
       "    </tr>\n",
       "    <tr>\n",
       "      <th>2021-01-27</th>\n",
       "      <td>374.44</td>\n",
       "    </tr>\n",
       "    <tr>\n",
       "      <th>2021-01-28</th>\n",
       "      <td>377.60</td>\n",
       "    </tr>\n",
       "    <tr>\n",
       "      <th>2021-01-29</th>\n",
       "      <td>370.19</td>\n",
       "    </tr>\n",
       "  </tbody>\n",
       "</table>\n",
       "</div>"
      ],
      "text/plain": [
       "               SPY\n",
       "2021-01-25  384.40\n",
       "2021-01-26  383.83\n",
       "2021-01-27  374.44\n",
       "2021-01-28  377.60\n",
       "2021-01-29  370.19"
      ]
     },
     "execution_count": 60,
     "metadata": {},
     "output_type": "execute_result"
    }
   ],
   "source": [
    "# Create an empty DataFrame for closing prices\n",
    "spy_closing_price = pd.DataFrame()\n",
    "\n",
    "# Fetch SPY's current closing price from the DataFrame\n",
    "spy_closing_price[\"SPY\"] = current_price[\"SPY\"][\"close\"]\n",
    "\n",
    "# Drop the time component of the date\n",
    "spy_closing_price.index = spy_closing_price.index.date\n",
    "\n",
    "# Display SPY's closing prices\n",
    "spy_closing_price.head()"
   ]
  },
  {
   "cell_type": "code",
   "execution_count": 61,
   "metadata": {},
   "outputs": [
    {
     "name": "stdout",
     "output_type": "stream",
     "text": [
      "Current SPY closing price: $               SPY\n",
      "2021-01-25  384.40\n",
      "2021-01-26  383.83\n",
      "2021-01-27  374.44\n",
      "2021-01-28  377.60\n",
      "2021-01-29  370.19\n",
      "...            ...\n",
      "2022-01-18  456.53\n",
      "2022-01-19  451.79\n",
      "2022-01-20  446.79\n",
      "2022-01-21  438.11\n",
      "2022-01-24  439.88\n",
      "\n",
      "[253 rows x 1 columns]\n"
     ]
    }
   ],
   "source": [
    "# Print SPY current closing price\n",
    "print(f\"Current SPY closing price: ${spy_closing_price}\")"
   ]
  },
  {
   "cell_type": "code",
   "execution_count": null,
   "metadata": {},
   "outputs": [],
   "source": [
    "# Compute the current value of AGG shares\n",
    "agg_value = agg_closing_price * current_price.loc[\"AGG\"][\"my_agg\"]"
   ]
  },
  {
   "cell_type": "code",
   "execution_count": null,
   "metadata": {},
   "outputs": [],
   "source": [
    "# Compute the current value of SPY shares\n",
    "spy_value = spy_closing_price * current_price.loc[\"SPY\"][\"my_spy\"]"
   ]
  },
  {
   "cell_type": "code",
   "execution_count": null,
   "metadata": {},
   "outputs": [],
   "source": [
    "# Print current value of AGG shares\n",
    "print(f\"The current value of your {my_agg} AGG shares is ${agg_value:0.2f}\")"
   ]
  },
  {
   "cell_type": "code",
   "execution_count": null,
   "metadata": {},
   "outputs": [],
   "source": [
    "# Print current value of SPY shares\n",
    "print(f\"The current value of your {my_spy} SPY shares is ${spy_value:0.2f}\")"
   ]
  },
  {
   "cell_type": "markdown",
   "metadata": {},
   "source": [
    "### Savings Health Analysis"
   ]
  },
  {
   "cell_type": "code",
   "execution_count": 23,
   "metadata": {},
   "outputs": [],
   "source": [
    "# Set monthly household income\n",
    "monthly_income = 12000"
   ]
  },
  {
   "cell_type": "code",
   "execution_count": 42,
   "metadata": {},
   "outputs": [
    {
     "name": "stdout",
     "output_type": "stream",
     "text": [
      "  Name  Value\n",
      "0  btc  44646\n",
      "1  eth  13110\n"
     ]
    }
   ],
   "source": [
    "# Consolidate Crypto financial assets data\n",
    "combined_crypto_data = {'Name':['btc', 'eth'], 'Value':[44646, 13110]}\n",
    " \n",
    "# Create DataFrame\n",
    "df_combined_crypto_data = pd.DataFrame(combined_crypto_data)\n",
    " \n",
    "# Print the output\n",
    "print(df_combined_crypto_data)"
   ]
  },
  {
   "cell_type": "code",
   "execution_count": 43,
   "metadata": {},
   "outputs": [
    {
     "name": "stdout",
     "output_type": "stream",
     "text": [
      "Total crypto assets:\n",
      "Name     btceth\n",
      "Value     57756\n",
      "dtype: object\n"
     ]
    }
   ],
   "source": [
    "# Get sum of all rows in the Dataframe as a Series to determine total Crypto value\n",
    "total = df_combined_crypto_data.sum()\n",
    "print('Total crypto assets:')\n",
    "print(total)"
   ]
  },
  {
   "cell_type": "code",
   "execution_count": 44,
   "metadata": {},
   "outputs": [
    {
     "name": "stdout",
     "output_type": "stream",
     "text": [
      "  Name  Value\n",
      "0  AGG  23380\n",
      "1  SPY  14136\n"
     ]
    }
   ],
   "source": [
    "# Consolidate financial assets data\n",
    "combined_shares_data = {'Name':['AGG', 'SPY'], 'Value':[23380, 14136]}\n",
    " \n",
    "# Create DataFrame\n",
    "df_combined_shares_data = pd.DataFrame(combined_shares_data)\n",
    " \n",
    "# Print the output\n",
    "print(df_combined_shares_data)"
   ]
  },
  {
   "cell_type": "code",
   "execution_count": 45,
   "metadata": {},
   "outputs": [
    {
     "name": "stdout",
     "output_type": "stream",
     "text": [
      "Total shares assets:\n",
      "Name     AGGSPY\n",
      "Value     37516\n",
      "dtype: object\n"
     ]
    }
   ],
   "source": [
    "# Get sum of all rows in the Dataframe as a Series to determine total Shares value\n",
    "total = df_combined_shares_data.sum()\n",
    "print('Total shares assets:')\n",
    "print(total)"
   ]
  },
  {
   "cell_type": "code",
   "execution_count": 10,
   "metadata": {},
   "outputs": [
    {
     "name": "stdout",
     "output_type": "stream",
     "text": [
      "                                      Name  Value\n",
      "0  Total Value in Dollars of Crypto Assets  57756\n",
      "1         Total Value in Dollars of Shares  37516\n"
     ]
    }
   ],
   "source": [
    "# Consolidate financial assets data\n",
    "combined_shares__crypto_data = {'Name':['Total Value in Dollars of Crypto Assets', 'Total Value in Dollars of Shares'], 'Value':[57756, 37516]}\n",
    "\n",
    "# Create DataFrame\n",
    "df_savings = pd.DataFrame(combined_shares__crypto_data)\n",
    " \n",
    "# Print the output\n",
    "print(df_savings)"
   ]
  },
  {
   "cell_type": "code",
   "execution_count": 11,
   "metadata": {},
   "outputs": [
    {
     "data": {
      "text/plain": [
       "<AxesSubplot:title={'center':'Composition of Personal Savings'}, ylabel='Value'>"
      ]
     },
     "execution_count": 11,
     "metadata": {},
     "output_type": "execute_result"
    },
    {
     "data": {
      "image/png": "[encoded data removed]",
      "text/plain": [
       "<Figure size 432x288 with 1 Axes>"
      ]
     },
     "metadata": {},
     "output_type": "display_data"
    }
   ],
   "source": [
    "# Plot savings pie chart\n",
    "df_savings.groupby(['Name']).sum().plot(kind='pie', y='Value', title='Composition of Personal Savings')"
   ]
  },
  {
   "cell_type": "code",
   "execution_count": null,
   "metadata": {},
   "outputs": [
    {
     "name": "stdout",
     "output_type": "stream",
     "text": [
      "36000\n"
     ]
    }
   ],
   "source": [
    "# Set ideal emergency fund\n",
    "emergency_fund = monthly_income * 3\n",
    "print(emergency_fund)"
   ]
  },
  {
   "cell_type": "code",
   "execution_count": null,
   "metadata": {},
   "outputs": [
    {
     "name": "stdout",
     "output_type": "stream",
     "text": [
      "Total Amount of Savings:\n",
      "Name     Total Value in Dollars of Crypto AssetsTotal V...\n",
      "Value                                                38036\n",
      "dtype: object\n"
     ]
    }
   ],
   "source": [
    "# Calculate total amount of savings\n",
    "total = df_savings.sum()\n",
    "print('Total Amount of Savings:')\n",
    "print(total)"
   ]
  },
  {
   "cell_type": "code",
   "execution_count": null,
   "metadata": {},
   "outputs": [
    {
     "name": "stdout",
     "output_type": "stream",
     "text": [
      "Nice work! You have enough money in this fund.\n"
     ]
    }
   ],
   "source": [
    "# Validate savings health\n",
    "total_savings = 38036\n",
    "emergency_fund = 36000\n",
    "\n",
    "if total_savings > emergency_fund:\n",
    "        print('Nice work! You have enough money in this fund.')"
   ]
  },
  {
   "cell_type": "code",
   "execution_count": null,
   "metadata": {},
   "outputs": [
    {
     "name": "stdout",
     "output_type": "stream",
     "text": [
      "Congrats! You have reached your financial goal.\n"
     ]
    }
   ],
   "source": [
    "# Validate savings health\n",
    "total_savings = 38036\n",
    "emergency_fund = 38036\n",
    "\n",
    "if total_savings == emergency_fund:                            \n",
    "        print('Congrats! You have reached your financial goal.')"
   ]
  },
  {
   "cell_type": "code",
   "execution_count": null,
   "metadata": {},
   "outputs": [
    {
     "name": "stdout",
     "output_type": "stream",
     "text": [
      "Keep it up! You only have $ 2036 more to save.\n"
     ]
    }
   ],
   "source": [
    "# Validate savings health\n",
    "total_savings = 30036\n",
    "emergency_fund = 36000\n",
    "difference = 2036\n",
    "\n",
    "if total_savings < emergency_fund:    \n",
    "        print(\"Keep it up! You only have $\",difference, \"more to save.\")"
   ]
  },
  {
   "cell_type": "markdown",
   "metadata": {},
   "source": [
    "## Part 2 - Retirement Planning\n",
    "\n",
    "### Monte Carlo Simulation"
   ]
  },
  {
   "cell_type": "code",
   "execution_count": 37,
   "metadata": {},
   "outputs": [],
   "source": [
    "# Set start and end dates of five years back from today\n",
    "start_date = pd.Timestamp(\"2017-01-24\", tz=\"America/New_York\").isoformat()\n",
    "end_date = pd.Timestamp(\"2022-01-24\", tz=\"America/New_York\").isoformat()"
   ]
  },
  {
   "cell_type": "code",
   "execution_count": 25,
   "metadata": {},
   "outputs": [],
   "source": [
    "# Set the tickers\n",
    "tickers = [\"AGG\", \"SPY\"]"
   ]
  },
  {
   "cell_type": "code",
   "execution_count": 26,
   "metadata": {},
   "outputs": [
    {
     "data": {
      "text/html": [
       "<div>\n",
       "<style scoped>\n",
       "    .dataframe tbody tr th:only-of-type {\n",
       "        vertical-align: middle;\n",
       "    }\n",
       "\n",
       "    .dataframe tbody tr th {\n",
       "        vertical-align: top;\n",
       "    }\n",
       "\n",
       "    .dataframe thead tr th {\n",
       "        text-align: left;\n",
       "    }\n",
       "\n",
       "    .dataframe thead tr:last-of-type th {\n",
       "        text-align: right;\n",
       "    }\n",
       "</style>\n",
       "<table border=\"1\" class=\"dataframe\">\n",
       "  <thead>\n",
       "    <tr>\n",
       "      <th></th>\n",
       "      <th colspan=\"5\" halign=\"left\">AGG</th>\n",
       "      <th colspan=\"5\" halign=\"left\">SPY</th>\n",
       "    </tr>\n",
       "    <tr>\n",
       "      <th></th>\n",
       "      <th>open</th>\n",
       "      <th>high</th>\n",
       "      <th>low</th>\n",
       "      <th>close</th>\n",
       "      <th>volume</th>\n",
       "      <th>open</th>\n",
       "      <th>high</th>\n",
       "      <th>low</th>\n",
       "      <th>close</th>\n",
       "      <th>volume</th>\n",
       "    </tr>\n",
       "    <tr>\n",
       "      <th>time</th>\n",
       "      <th></th>\n",
       "      <th></th>\n",
       "      <th></th>\n",
       "      <th></th>\n",
       "      <th></th>\n",
       "      <th></th>\n",
       "      <th></th>\n",
       "      <th></th>\n",
       "      <th></th>\n",
       "      <th></th>\n",
       "    </tr>\n",
       "  </thead>\n",
       "  <tbody>\n",
       "    <tr>\n",
       "      <th>2021-01-25 00:00:00-05:00</th>\n",
       "      <td>117.3900</td>\n",
       "      <td>117.560</td>\n",
       "      <td>117.3600</td>\n",
       "      <td>117.54</td>\n",
       "      <td>3977366</td>\n",
       "      <td>383.67</td>\n",
       "      <td>384.77</td>\n",
       "      <td>378.46</td>\n",
       "      <td>384.40</td>\n",
       "      <td>61090775</td>\n",
       "    </tr>\n",
       "    <tr>\n",
       "      <th>2021-01-26 00:00:00-05:00</th>\n",
       "      <td>117.4600</td>\n",
       "      <td>117.585</td>\n",
       "      <td>117.4255</td>\n",
       "      <td>117.51</td>\n",
       "      <td>3451493</td>\n",
       "      <td>385.41</td>\n",
       "      <td>385.85</td>\n",
       "      <td>383.54</td>\n",
       "      <td>383.83</td>\n",
       "      <td>36871235</td>\n",
       "    </tr>\n",
       "    <tr>\n",
       "      <th>2021-01-27 00:00:00-05:00</th>\n",
       "      <td>117.6100</td>\n",
       "      <td>117.670</td>\n",
       "      <td>117.0400</td>\n",
       "      <td>117.52</td>\n",
       "      <td>3509666</td>\n",
       "      <td>380.22</td>\n",
       "      <td>380.32</td>\n",
       "      <td>372.01</td>\n",
       "      <td>374.44</td>\n",
       "      <td>99246554</td>\n",
       "    </tr>\n",
       "    <tr>\n",
       "      <th>2021-01-28 00:00:00-05:00</th>\n",
       "      <td>117.4800</td>\n",
       "      <td>117.490</td>\n",
       "      <td>117.2900</td>\n",
       "      <td>117.43</td>\n",
       "      <td>4440895</td>\n",
       "      <td>376.36</td>\n",
       "      <td>381.93</td>\n",
       "      <td>375.89</td>\n",
       "      <td>377.60</td>\n",
       "      <td>75229306</td>\n",
       "    </tr>\n",
       "    <tr>\n",
       "      <th>2021-01-29 00:00:00-05:00</th>\n",
       "      <td>117.1563</td>\n",
       "      <td>117.400</td>\n",
       "      <td>116.5625</td>\n",
       "      <td>117.32</td>\n",
       "      <td>7119889</td>\n",
       "      <td>375.63</td>\n",
       "      <td>376.67</td>\n",
       "      <td>368.27</td>\n",
       "      <td>370.19</td>\n",
       "      <td>106397082</td>\n",
       "    </tr>\n",
       "  </tbody>\n",
       "</table>\n",
       "</div>"
      ],
      "text/plain": [
       "                                AGG                                      \\\n",
       "                               open     high       low   close   volume   \n",
       "time                                                                      \n",
       "2021-01-25 00:00:00-05:00  117.3900  117.560  117.3600  117.54  3977366   \n",
       "2021-01-26 00:00:00-05:00  117.4600  117.585  117.4255  117.51  3451493   \n",
       "2021-01-27 00:00:00-05:00  117.6100  117.670  117.0400  117.52  3509666   \n",
       "2021-01-28 00:00:00-05:00  117.4800  117.490  117.2900  117.43  4440895   \n",
       "2021-01-29 00:00:00-05:00  117.1563  117.400  116.5625  117.32  7119889   \n",
       "\n",
       "                              SPY                                     \n",
       "                             open    high     low   close     volume  \n",
       "time                                                                  \n",
       "2021-01-25 00:00:00-05:00  383.67  384.77  378.46  384.40   61090775  \n",
       "2021-01-26 00:00:00-05:00  385.41  385.85  383.54  383.83   36871235  \n",
       "2021-01-27 00:00:00-05:00  380.22  380.32  372.01  374.44   99246554  \n",
       "2021-01-28 00:00:00-05:00  376.36  381.93  375.89  377.60   75229306  \n",
       "2021-01-29 00:00:00-05:00  375.63  376.67  368.27  370.19  106397082  "
      ]
     },
     "execution_count": 26,
     "metadata": {},
     "output_type": "execute_result"
    }
   ],
   "source": [
    "# Get 5 years' worth of historical data for SPY and AGG\n",
    "df_stock_data = api.get_barset(\n",
    "    tickers,\n",
    "    timeframe,\n",
    "    start = start_date,\n",
    "    end = end_date,\n",
    "    limit = 1000\n",
    ").df\n",
    "\n",
    "# Display sample data\n",
    "df_stock_data.head()"
   ]
  },
  {
   "cell_type": "code",
   "execution_count": 27,
   "metadata": {},
   "outputs": [],
   "source": [
    "# Set number of simulations\n",
    "num_sims = 500\n",
    "\n",
    "# Configure a Monte Carlo simulation to forecast 30 years cumulative returns\n",
    "MC_thirtyyears = MCSimulation(\n",
    "    portfolio_data = df_stock_data,\n",
    "    weights = [.60,.40],\n",
    "    num_simulation = num_sims,\n",
    "    num_trading_days = 252*30)"
   ]
  },
  {
   "cell_type": "code",
   "execution_count": 28,
   "metadata": {},
   "outputs": [
    {
     "data": {
      "text/html": [
       "<div>\n",
       "<style scoped>\n",
       "    .dataframe tbody tr th:only-of-type {\n",
       "        vertical-align: middle;\n",
       "    }\n",
       "\n",
       "    .dataframe tbody tr th {\n",
       "        vertical-align: top;\n",
       "    }\n",
       "\n",
       "    .dataframe thead tr th {\n",
       "        text-align: left;\n",
       "    }\n",
       "\n",
       "    .dataframe thead tr:last-of-type th {\n",
       "        text-align: right;\n",
       "    }\n",
       "</style>\n",
       "<table border=\"1\" class=\"dataframe\">\n",
       "  <thead>\n",
       "    <tr>\n",
       "      <th></th>\n",
       "      <th colspan=\"6\" halign=\"left\">AGG</th>\n",
       "      <th colspan=\"6\" halign=\"left\">SPY</th>\n",
       "    </tr>\n",
       "    <tr>\n",
       "      <th></th>\n",
       "      <th>open</th>\n",
       "      <th>high</th>\n",
       "      <th>low</th>\n",
       "      <th>close</th>\n",
       "      <th>volume</th>\n",
       "      <th>daily_return</th>\n",
       "      <th>open</th>\n",
       "      <th>high</th>\n",
       "      <th>low</th>\n",
       "      <th>close</th>\n",
       "      <th>volume</th>\n",
       "      <th>daily_return</th>\n",
       "    </tr>\n",
       "    <tr>\n",
       "      <th>time</th>\n",
       "      <th></th>\n",
       "      <th></th>\n",
       "      <th></th>\n",
       "      <th></th>\n",
       "      <th></th>\n",
       "      <th></th>\n",
       "      <th></th>\n",
       "      <th></th>\n",
       "      <th></th>\n",
       "      <th></th>\n",
       "      <th></th>\n",
       "      <th></th>\n",
       "    </tr>\n",
       "  </thead>\n",
       "  <tbody>\n",
       "    <tr>\n",
       "      <th>2021-01-25 00:00:00-05:00</th>\n",
       "      <td>117.3900</td>\n",
       "      <td>117.560</td>\n",
       "      <td>117.3600</td>\n",
       "      <td>117.54</td>\n",
       "      <td>3977366</td>\n",
       "      <td>NaN</td>\n",
       "      <td>383.67</td>\n",
       "      <td>384.77</td>\n",
       "      <td>378.46</td>\n",
       "      <td>384.40</td>\n",
       "      <td>61090775</td>\n",
       "      <td>NaN</td>\n",
       "    </tr>\n",
       "    <tr>\n",
       "      <th>2021-01-26 00:00:00-05:00</th>\n",
       "      <td>117.4600</td>\n",
       "      <td>117.585</td>\n",
       "      <td>117.4255</td>\n",
       "      <td>117.51</td>\n",
       "      <td>3451493</td>\n",
       "      <td>-0.000255</td>\n",
       "      <td>385.41</td>\n",
       "      <td>385.85</td>\n",
       "      <td>383.54</td>\n",
       "      <td>383.83</td>\n",
       "      <td>36871235</td>\n",
       "      <td>-0.001483</td>\n",
       "    </tr>\n",
       "    <tr>\n",
       "      <th>2021-01-27 00:00:00-05:00</th>\n",
       "      <td>117.6100</td>\n",
       "      <td>117.670</td>\n",
       "      <td>117.0400</td>\n",
       "      <td>117.52</td>\n",
       "      <td>3509666</td>\n",
       "      <td>0.000085</td>\n",
       "      <td>380.22</td>\n",
       "      <td>380.32</td>\n",
       "      <td>372.01</td>\n",
       "      <td>374.44</td>\n",
       "      <td>99246554</td>\n",
       "      <td>-0.024464</td>\n",
       "    </tr>\n",
       "    <tr>\n",
       "      <th>2021-01-28 00:00:00-05:00</th>\n",
       "      <td>117.4800</td>\n",
       "      <td>117.490</td>\n",
       "      <td>117.2900</td>\n",
       "      <td>117.43</td>\n",
       "      <td>4440895</td>\n",
       "      <td>-0.000766</td>\n",
       "      <td>376.36</td>\n",
       "      <td>381.93</td>\n",
       "      <td>375.89</td>\n",
       "      <td>377.60</td>\n",
       "      <td>75229306</td>\n",
       "      <td>0.008439</td>\n",
       "    </tr>\n",
       "    <tr>\n",
       "      <th>2021-01-29 00:00:00-05:00</th>\n",
       "      <td>117.1563</td>\n",
       "      <td>117.400</td>\n",
       "      <td>116.5625</td>\n",
       "      <td>117.32</td>\n",
       "      <td>7119889</td>\n",
       "      <td>-0.000937</td>\n",
       "      <td>375.63</td>\n",
       "      <td>376.67</td>\n",
       "      <td>368.27</td>\n",
       "      <td>370.19</td>\n",
       "      <td>106397082</td>\n",
       "      <td>-0.019624</td>\n",
       "    </tr>\n",
       "  </tbody>\n",
       "</table>\n",
       "</div>"
      ],
      "text/plain": [
       "                                AGG                                      \\\n",
       "                               open     high       low   close   volume   \n",
       "time                                                                      \n",
       "2021-01-25 00:00:00-05:00  117.3900  117.560  117.3600  117.54  3977366   \n",
       "2021-01-26 00:00:00-05:00  117.4600  117.585  117.4255  117.51  3451493   \n",
       "2021-01-27 00:00:00-05:00  117.6100  117.670  117.0400  117.52  3509666   \n",
       "2021-01-28 00:00:00-05:00  117.4800  117.490  117.2900  117.43  4440895   \n",
       "2021-01-29 00:00:00-05:00  117.1563  117.400  116.5625  117.32  7119889   \n",
       "\n",
       "                                           SPY                          \\\n",
       "                          daily_return    open    high     low   close   \n",
       "time                                                                     \n",
       "2021-01-25 00:00:00-05:00          NaN  383.67  384.77  378.46  384.40   \n",
       "2021-01-26 00:00:00-05:00    -0.000255  385.41  385.85  383.54  383.83   \n",
       "2021-01-27 00:00:00-05:00     0.000085  380.22  380.32  372.01  374.44   \n",
       "2021-01-28 00:00:00-05:00    -0.000766  376.36  381.93  375.89  377.60   \n",
       "2021-01-29 00:00:00-05:00    -0.000937  375.63  376.67  368.27  370.19   \n",
       "\n",
       "                                                   \n",
       "                              volume daily_return  \n",
       "time                                               \n",
       "2021-01-25 00:00:00-05:00   61090775          NaN  \n",
       "2021-01-26 00:00:00-05:00   36871235    -0.001483  \n",
       "2021-01-27 00:00:00-05:00   99246554    -0.024464  \n",
       "2021-01-28 00:00:00-05:00   75229306     0.008439  \n",
       "2021-01-29 00:00:00-05:00  106397082    -0.019624  "
      ]
     },
     "execution_count": 28,
     "metadata": {},
     "output_type": "execute_result"
    }
   ],
   "source": [
    "# Print the simulation input data\n",
    "MC_thirtyyears.portfolio_data.head()"
   ]
  },
  {
   "cell_type": "code",
   "execution_count": 29,
   "metadata": {},
   "outputs": [
    {
     "name": "stdout",
     "output_type": "stream",
     "text": [
      "Running Monte Carlo simulation number 0.\n",
      "Running Monte Carlo simulation number 10.\n",
      "Running Monte Carlo simulation number 20.\n",
      "Running Monte Carlo simulation number 30.\n",
      "Running Monte Carlo simulation number 40.\n",
      "Running Monte Carlo simulation number 50.\n",
      "Running Monte Carlo simulation number 60.\n",
      "Running Monte Carlo simulation number 70.\n",
      "Running Monte Carlo simulation number 80.\n",
      "Running Monte Carlo simulation number 90.\n",
      "Running Monte Carlo simulation number 100.\n",
      "Running Monte Carlo simulation number 110.\n",
      "Running Monte Carlo simulation number 120.\n",
      "Running Monte Carlo simulation number 130.\n",
      "Running Monte Carlo simulation number 140.\n",
      "Running Monte Carlo simulation number 150.\n",
      "Running Monte Carlo simulation number 160.\n",
      "Running Monte Carlo simulation number 170.\n",
      "Running Monte Carlo simulation number 180.\n",
      "Running Monte Carlo simulation number 190.\n",
      "Running Monte Carlo simulation number 200.\n",
      "Running Monte Carlo simulation number 210.\n",
      "Running Monte Carlo simulation number 220.\n",
      "Running Monte Carlo simulation number 230.\n",
      "Running Monte Carlo simulation number 240.\n",
      "Running Monte Carlo simulation number 250.\n",
      "Running Monte Carlo simulation number 260.\n",
      "Running Monte Carlo simulation number 270.\n",
      "Running Monte Carlo simulation number 280.\n",
      "Running Monte Carlo simulation number 290.\n",
      "Running Monte Carlo simulation number 300.\n",
      "Running Monte Carlo simulation number 310.\n",
      "Running Monte Carlo simulation number 320.\n",
      "Running Monte Carlo simulation number 330.\n",
      "Running Monte Carlo simulation number 340.\n",
      "Running Monte Carlo simulation number 350.\n",
      "Running Monte Carlo simulation number 360.\n",
      "Running Monte Carlo simulation number 370.\n",
      "Running Monte Carlo simulation number 380.\n",
      "Running Monte Carlo simulation number 390.\n",
      "Running Monte Carlo simulation number 400.\n",
      "Running Monte Carlo simulation number 410.\n",
      "Running Monte Carlo simulation number 420.\n",
      "Running Monte Carlo simulation number 430.\n",
      "Running Monte Carlo simulation number 440.\n",
      "Running Monte Carlo simulation number 450.\n",
      "Running Monte Carlo simulation number 460.\n",
      "Running Monte Carlo simulation number 470.\n",
      "Running Monte Carlo simulation number 480.\n",
      "Running Monte Carlo simulation number 490.\n"
     ]
    },
    {
     "data": {
      "text/html": [
       "<div>\n",
       "<style scoped>\n",
       "    .dataframe tbody tr th:only-of-type {\n",
       "        vertical-align: middle;\n",
       "    }\n",
       "\n",
       "    .dataframe tbody tr th {\n",
       "        vertical-align: top;\n",
       "    }\n",
       "\n",
       "    .dataframe thead th {\n",
       "        text-align: right;\n",
       "    }\n",
       "</style>\n",
       "<table border=\"1\" class=\"dataframe\">\n",
       "  <thead>\n",
       "    <tr style=\"text-align: right;\">\n",
       "      <th></th>\n",
       "      <th>0</th>\n",
       "      <th>1</th>\n",
       "      <th>2</th>\n",
       "      <th>3</th>\n",
       "      <th>4</th>\n",
       "      <th>5</th>\n",
       "      <th>6</th>\n",
       "      <th>7</th>\n",
       "      <th>8</th>\n",
       "      <th>9</th>\n",
       "      <th>...</th>\n",
       "      <th>490</th>\n",
       "      <th>491</th>\n",
       "      <th>492</th>\n",
       "      <th>493</th>\n",
       "      <th>494</th>\n",
       "      <th>495</th>\n",
       "      <th>496</th>\n",
       "      <th>497</th>\n",
       "      <th>498</th>\n",
       "      <th>499</th>\n",
       "    </tr>\n",
       "  </thead>\n",
       "  <tbody>\n",
       "    <tr>\n",
       "      <th>0</th>\n",
       "      <td>1.000000</td>\n",
       "      <td>1.000000</td>\n",
       "      <td>1.000000</td>\n",
       "      <td>1.000000</td>\n",
       "      <td>1.000000</td>\n",
       "      <td>1.000000</td>\n",
       "      <td>1.000000</td>\n",
       "      <td>1.000000</td>\n",
       "      <td>1.000000</td>\n",
       "      <td>1.000000</td>\n",
       "      <td>...</td>\n",
       "      <td>1.000000</td>\n",
       "      <td>1.000000</td>\n",
       "      <td>1.000000</td>\n",
       "      <td>1.000000</td>\n",
       "      <td>1.000000</td>\n",
       "      <td>1.000000</td>\n",
       "      <td>1.000000</td>\n",
       "      <td>1.000000</td>\n",
       "      <td>1.000000</td>\n",
       "      <td>1.000000</td>\n",
       "    </tr>\n",
       "    <tr>\n",
       "      <th>1</th>\n",
       "      <td>1.002557</td>\n",
       "      <td>1.003868</td>\n",
       "      <td>0.993317</td>\n",
       "      <td>0.996534</td>\n",
       "      <td>0.993951</td>\n",
       "      <td>1.005403</td>\n",
       "      <td>0.996630</td>\n",
       "      <td>1.005303</td>\n",
       "      <td>1.003150</td>\n",
       "      <td>0.994353</td>\n",
       "      <td>...</td>\n",
       "      <td>0.997479</td>\n",
       "      <td>0.998545</td>\n",
       "      <td>0.998969</td>\n",
       "      <td>0.998760</td>\n",
       "      <td>1.008312</td>\n",
       "      <td>1.002547</td>\n",
       "      <td>0.995899</td>\n",
       "      <td>1.006079</td>\n",
       "      <td>1.002485</td>\n",
       "      <td>0.999362</td>\n",
       "    </tr>\n",
       "    <tr>\n",
       "      <th>2</th>\n",
       "      <td>0.996851</td>\n",
       "      <td>1.002105</td>\n",
       "      <td>0.992994</td>\n",
       "      <td>1.003709</td>\n",
       "      <td>0.995154</td>\n",
       "      <td>1.002520</td>\n",
       "      <td>0.993933</td>\n",
       "      <td>1.009071</td>\n",
       "      <td>1.002219</td>\n",
       "      <td>0.990638</td>\n",
       "      <td>...</td>\n",
       "      <td>1.001439</td>\n",
       "      <td>1.004451</td>\n",
       "      <td>1.002331</td>\n",
       "      <td>1.003444</td>\n",
       "      <td>1.009070</td>\n",
       "      <td>0.998534</td>\n",
       "      <td>0.999361</td>\n",
       "      <td>1.006990</td>\n",
       "      <td>1.012788</td>\n",
       "      <td>0.998554</td>\n",
       "    </tr>\n",
       "    <tr>\n",
       "      <th>3</th>\n",
       "      <td>1.002569</td>\n",
       "      <td>1.001901</td>\n",
       "      <td>0.999260</td>\n",
       "      <td>1.005756</td>\n",
       "      <td>0.992747</td>\n",
       "      <td>1.004147</td>\n",
       "      <td>0.990757</td>\n",
       "      <td>1.004159</td>\n",
       "      <td>0.997959</td>\n",
       "      <td>0.996419</td>\n",
       "      <td>...</td>\n",
       "      <td>1.000192</td>\n",
       "      <td>1.008411</td>\n",
       "      <td>1.001079</td>\n",
       "      <td>1.008985</td>\n",
       "      <td>1.010108</td>\n",
       "      <td>0.994461</td>\n",
       "      <td>0.997707</td>\n",
       "      <td>1.012045</td>\n",
       "      <td>1.014853</td>\n",
       "      <td>0.998178</td>\n",
       "    </tr>\n",
       "    <tr>\n",
       "      <th>4</th>\n",
       "      <td>1.011268</td>\n",
       "      <td>0.997311</td>\n",
       "      <td>1.000669</td>\n",
       "      <td>0.999779</td>\n",
       "      <td>0.992542</td>\n",
       "      <td>1.008199</td>\n",
       "      <td>0.989079</td>\n",
       "      <td>1.006969</td>\n",
       "      <td>1.002537</td>\n",
       "      <td>1.002307</td>\n",
       "      <td>...</td>\n",
       "      <td>1.002844</td>\n",
       "      <td>1.013463</td>\n",
       "      <td>1.002117</td>\n",
       "      <td>1.009934</td>\n",
       "      <td>1.012177</td>\n",
       "      <td>0.987474</td>\n",
       "      <td>0.992937</td>\n",
       "      <td>1.008727</td>\n",
       "      <td>1.013330</td>\n",
       "      <td>0.997852</td>\n",
       "    </tr>\n",
       "    <tr>\n",
       "      <th>...</th>\n",
       "      <td>...</td>\n",
       "      <td>...</td>\n",
       "      <td>...</td>\n",
       "      <td>...</td>\n",
       "      <td>...</td>\n",
       "      <td>...</td>\n",
       "      <td>...</td>\n",
       "      <td>...</td>\n",
       "      <td>...</td>\n",
       "      <td>...</td>\n",
       "      <td>...</td>\n",
       "      <td>...</td>\n",
       "      <td>...</td>\n",
       "      <td>...</td>\n",
       "      <td>...</td>\n",
       "      <td>...</td>\n",
       "      <td>...</td>\n",
       "      <td>...</td>\n",
       "      <td>...</td>\n",
       "      <td>...</td>\n",
       "      <td>...</td>\n",
       "    </tr>\n",
       "    <tr>\n",
       "      <th>7556</th>\n",
       "      <td>2.438611</td>\n",
       "      <td>2.010972</td>\n",
       "      <td>3.300983</td>\n",
       "      <td>1.200160</td>\n",
       "      <td>2.724582</td>\n",
       "      <td>2.612178</td>\n",
       "      <td>3.083812</td>\n",
       "      <td>2.762254</td>\n",
       "      <td>2.946308</td>\n",
       "      <td>1.912539</td>\n",
       "      <td>...</td>\n",
       "      <td>1.941043</td>\n",
       "      <td>1.357230</td>\n",
       "      <td>1.244708</td>\n",
       "      <td>2.309229</td>\n",
       "      <td>2.622686</td>\n",
       "      <td>1.825326</td>\n",
       "      <td>2.425234</td>\n",
       "      <td>2.709283</td>\n",
       "      <td>2.265468</td>\n",
       "      <td>2.044650</td>\n",
       "    </tr>\n",
       "    <tr>\n",
       "      <th>7557</th>\n",
       "      <td>2.438756</td>\n",
       "      <td>2.010334</td>\n",
       "      <td>3.335133</td>\n",
       "      <td>1.199187</td>\n",
       "      <td>2.709250</td>\n",
       "      <td>2.608198</td>\n",
       "      <td>3.082116</td>\n",
       "      <td>2.760255</td>\n",
       "      <td>2.943382</td>\n",
       "      <td>1.903663</td>\n",
       "      <td>...</td>\n",
       "      <td>1.936711</td>\n",
       "      <td>1.357354</td>\n",
       "      <td>1.245240</td>\n",
       "      <td>2.305859</td>\n",
       "      <td>2.602211</td>\n",
       "      <td>1.828363</td>\n",
       "      <td>2.441982</td>\n",
       "      <td>2.696087</td>\n",
       "      <td>2.273328</td>\n",
       "      <td>2.040096</td>\n",
       "    </tr>\n",
       "    <tr>\n",
       "      <th>7558</th>\n",
       "      <td>2.456688</td>\n",
       "      <td>2.029001</td>\n",
       "      <td>3.320231</td>\n",
       "      <td>1.198053</td>\n",
       "      <td>2.712100</td>\n",
       "      <td>2.615533</td>\n",
       "      <td>3.084134</td>\n",
       "      <td>2.755701</td>\n",
       "      <td>2.942599</td>\n",
       "      <td>1.910754</td>\n",
       "      <td>...</td>\n",
       "      <td>1.941522</td>\n",
       "      <td>1.356111</td>\n",
       "      <td>1.245171</td>\n",
       "      <td>2.305880</td>\n",
       "      <td>2.613380</td>\n",
       "      <td>1.832501</td>\n",
       "      <td>2.437730</td>\n",
       "      <td>2.696984</td>\n",
       "      <td>2.279683</td>\n",
       "      <td>2.026015</td>\n",
       "    </tr>\n",
       "    <tr>\n",
       "      <th>7559</th>\n",
       "      <td>2.449059</td>\n",
       "      <td>2.029321</td>\n",
       "      <td>3.327059</td>\n",
       "      <td>1.202193</td>\n",
       "      <td>2.710832</td>\n",
       "      <td>2.622469</td>\n",
       "      <td>3.088406</td>\n",
       "      <td>2.761062</td>\n",
       "      <td>2.939989</td>\n",
       "      <td>1.909895</td>\n",
       "      <td>...</td>\n",
       "      <td>1.945020</td>\n",
       "      <td>1.359708</td>\n",
       "      <td>1.249153</td>\n",
       "      <td>2.309274</td>\n",
       "      <td>2.601903</td>\n",
       "      <td>1.833203</td>\n",
       "      <td>2.447245</td>\n",
       "      <td>2.695769</td>\n",
       "      <td>2.272803</td>\n",
       "      <td>2.013098</td>\n",
       "    </tr>\n",
       "    <tr>\n",
       "      <th>7560</th>\n",
       "      <td>2.444730</td>\n",
       "      <td>2.021209</td>\n",
       "      <td>3.317070</td>\n",
       "      <td>1.193742</td>\n",
       "      <td>2.722788</td>\n",
       "      <td>2.621038</td>\n",
       "      <td>3.088348</td>\n",
       "      <td>2.765009</td>\n",
       "      <td>2.949049</td>\n",
       "      <td>1.909366</td>\n",
       "      <td>...</td>\n",
       "      <td>1.949280</td>\n",
       "      <td>1.355041</td>\n",
       "      <td>1.245682</td>\n",
       "      <td>2.315944</td>\n",
       "      <td>2.624304</td>\n",
       "      <td>1.833206</td>\n",
       "      <td>2.460350</td>\n",
       "      <td>2.713640</td>\n",
       "      <td>2.282563</td>\n",
       "      <td>2.017040</td>\n",
       "    </tr>\n",
       "  </tbody>\n",
       "</table>\n",
       "<p>7561 rows × 500 columns</p>\n",
       "</div>"
      ],
      "text/plain": [
       "           0         1         2         3         4         5         6    \\\n",
       "0     1.000000  1.000000  1.000000  1.000000  1.000000  1.000000  1.000000   \n",
       "1     1.002557  1.003868  0.993317  0.996534  0.993951  1.005403  0.996630   \n",
       "2     0.996851  1.002105  0.992994  1.003709  0.995154  1.002520  0.993933   \n",
       "3     1.002569  1.001901  0.999260  1.005756  0.992747  1.004147  0.990757   \n",
       "4     1.011268  0.997311  1.000669  0.999779  0.992542  1.008199  0.989079   \n",
       "...        ...       ...       ...       ...       ...       ...       ...   \n",
       "7556  2.438611  2.010972  3.300983  1.200160  2.724582  2.612178  3.083812   \n",
       "7557  2.438756  2.010334  3.335133  1.199187  2.709250  2.608198  3.082116   \n",
       "7558  2.456688  2.029001  3.320231  1.198053  2.712100  2.615533  3.084134   \n",
       "7559  2.449059  2.029321  3.327059  1.202193  2.710832  2.622469  3.088406   \n",
       "7560  2.444730  2.021209  3.317070  1.193742  2.722788  2.621038  3.088348   \n",
       "\n",
       "           7         8         9    ...       490       491       492  \\\n",
       "0     1.000000  1.000000  1.000000  ...  1.000000  1.000000  1.000000   \n",
       "1     1.005303  1.003150  0.994353  ...  0.997479  0.998545  0.998969   \n",
       "2     1.009071  1.002219  0.990638  ...  1.001439  1.004451  1.002331   \n",
       "3     1.004159  0.997959  0.996419  ...  1.000192  1.008411  1.001079   \n",
       "4     1.006969  1.002537  1.002307  ...  1.002844  1.013463  1.002117   \n",
       "...        ...       ...       ...  ...       ...       ...       ...   \n",
       "7556  2.762254  2.946308  1.912539  ...  1.941043  1.357230  1.244708   \n",
       "7557  2.760255  2.943382  1.903663  ...  1.936711  1.357354  1.245240   \n",
       "7558  2.755701  2.942599  1.910754  ...  1.941522  1.356111  1.245171   \n",
       "7559  2.761062  2.939989  1.909895  ...  1.945020  1.359708  1.249153   \n",
       "7560  2.765009  2.949049  1.909366  ...  1.949280  1.355041  1.245682   \n",
       "\n",
       "           493       494       495       496       497       498       499  \n",
       "0     1.000000  1.000000  1.000000  1.000000  1.000000  1.000000  1.000000  \n",
       "1     0.998760  1.008312  1.002547  0.995899  1.006079  1.002485  0.999362  \n",
       "2     1.003444  1.009070  0.998534  0.999361  1.006990  1.012788  0.998554  \n",
       "3     1.008985  1.010108  0.994461  0.997707  1.012045  1.014853  0.998178  \n",
       "4     1.009934  1.012177  0.987474  0.992937  1.008727  1.013330  0.997852  \n",
       "...        ...       ...       ...       ...       ...       ...       ...  \n",
       "7556  2.309229  2.622686  1.825326  2.425234  2.709283  2.265468  2.044650  \n",
       "7557  2.305859  2.602211  1.828363  2.441982  2.696087  2.273328  2.040096  \n",
       "7558  2.305880  2.613380  1.832501  2.437730  2.696984  2.279683  2.026015  \n",
       "7559  2.309274  2.601903  1.833203  2.447245  2.695769  2.272803  2.013098  \n",
       "7560  2.315944  2.624304  1.833206  2.460350  2.713640  2.282563  2.017040  \n",
       "\n",
       "[7561 rows x 500 columns]"
      ]
     },
     "execution_count": 29,
     "metadata": {},
     "output_type": "execute_result"
    }
   ],
   "source": [
    "# Run Monte Carlo simulations to forecast 30 year cumulative returns\n",
    "MC_thirtyyears.calc_cumulative_return()"
   ]
  },
  {
   "cell_type": "code",
   "execution_count": 30,
   "metadata": {},
   "outputs": [
    {
     "data": {
      "image/png": "[encoded data removed]",
      "text/plain": [
       "<Figure size 432x288 with 1 Axes>"
      ]
     },
     "metadata": {
      "needs_background": "light"
     },
     "output_type": "display_data"
    }
   ],
   "source": [
    "# Plot simulation outcomes\n",
    "line_plot = MC_thirtyyears.plot_simulation()"
   ]
  },
  {
   "cell_type": "code",
   "execution_count": 31,
   "metadata": {},
   "outputs": [
    {
     "data": {
      "image/png": "[encoded data removed]",
      "text/plain": [
       "<Figure size 432x288 with 1 Axes>"
      ]
     },
     "metadata": {
      "needs_background": "light"
     },
     "output_type": "display_data"
    }
   ],
   "source": [
    "# Plot probability distribution and confidence intervals\n",
    "dist_plot = MC_thirtyyears.plot_distribution()"
   ]
  },
  {
   "cell_type": "markdown",
   "metadata": {},
   "source": [
    "### Retirement Analysis"
   ]
  },
  {
   "cell_type": "code",
   "execution_count": 32,
   "metadata": {},
   "outputs": [
    {
     "name": "stdout",
     "output_type": "stream",
     "text": [
      "count           500.000000\n",
      "mean              2.354098\n",
      "std               0.764078\n",
      "min               0.955713\n",
      "25%               1.818435\n",
      "50%               2.250680\n",
      "75%               2.756625\n",
      "max               5.271052\n",
      "95% CI Lower      1.228549\n",
      "95% CI Upper      4.226139\n",
      "Name: 7560, dtype: float64\n"
     ]
    }
   ],
   "source": [
    "# Fetch summary statistics from the Monte Carlo simulation results\n",
    "summary_stats = MC_thirtyyears.summarize_cumulative_return()\n",
    "\n",
    "# Print summary statistics\n",
    "print(summary_stats)"
   ]
  },
  {
   "cell_type": "markdown",
   "metadata": {},
   "source": [
    "### Calculate the expected portfolio return at the `95%` lower and upper confidence intervals based on a `$20,000` initial investment."
   ]
  },
  {
   "cell_type": "code",
   "execution_count": 33,
   "metadata": {},
   "outputs": [
    {
     "name": "stdout",
     "output_type": "stream",
     "text": [
      "There is a 95% chance that an initial investment of $20000 in the portfolio over the next 30 years will end within in the range of $24570.98 and $84522.78\n"
     ]
    }
   ],
   "source": [
    "# Set initial investment\n",
    "initial_investment = 20000\n",
    "\n",
    "# Use the lower and upper `95%` confidence intervals to calculate the range of the possible outcomes of our $20,000\n",
    "ci_lower = round(summary_stats[8]*20000,2)\n",
    "ci_upper = round(summary_stats[9]*20000,2)\n",
    "\n",
    "# Print results\n",
    "print(f\"There is a 95% chance that an initial investment of ${initial_investment} in the portfolio\"\n",
    "      f\" over the next 30 years will end within in the range of\"\n",
    "      f\" ${ci_lower} and ${ci_upper}\")"
   ]
  },
  {
   "cell_type": "markdown",
   "metadata": {},
   "source": [
    "### Calculate the expected portfolio return at the `95%` lower and upper confidence intervals based on a `50%` increase in the initial investment."
   ]
  },
  {
   "cell_type": "code",
   "execution_count": 34,
   "metadata": {},
   "outputs": [
    {
     "name": "stdout",
     "output_type": "stream",
     "text": [
      "There is a 95% chance that an initial investment of $30000.0 in the portfolio over the next 30 years will end within in the range of $36856.47 and $126784.16\n"
     ]
    }
   ],
   "source": [
    "# Set initial investment\n",
    "initial_investment = 20000 * 1.5\n",
    "\n",
    "# Use the lower and upper `95%` confidence intervals to calculate the range of the possible outcomes of our $30,000\n",
    "ci_lower = round(summary_stats[8]*30000,2)\n",
    "ci_upper = round(summary_stats[9]*30000,2)\n",
    "\n",
    "\n",
    "# Print results\n",
    "print(f\"There is a 95% chance that an initial investment of ${initial_investment} in the portfolio\"\n",
    "      f\" over the next 30 years will end within in the range of\"\n",
    "      f\" ${ci_lower} and ${ci_upper}\")"
   ]
  }
 ],
 "metadata": {
  "kernelspec": {
   "display_name": "Python 3",
   "language": "python",
   "name": "python3"
  },
  "language_info": {
   "codemirror_mode": {
    "name": "ipython",
    "version": 3
   },
   "file_extension": ".py",
   "mimetype": "text/x-python",
   "name": "python",
   "nbconvert_exporter": "python",
   "pygments_lexer": "ipython3",
   "version": "3.7.11"
  },
  "nteract": {
   "version": "0.28.0"
  }
 },
 "nbformat": 4,
 "nbformat_minor": 4
}
