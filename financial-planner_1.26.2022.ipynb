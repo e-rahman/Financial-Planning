{
 "cells": [
  {
   "cell_type": "markdown",
   "metadata": {},
   "source": [
    "# Unit 5 - Financial Planning"
   ]
  },
  {
   "cell_type": "code",
   "execution_count": null,
   "metadata": {},
   "outputs": [],
   "source": [
    "# Initial imports\n",
    "import os\n",
    "import requests\n",
    "import json\n",
    "import pandas as pd\n",
    "from dotenv import load_dotenv\n",
    "import alpaca_trade_api as tradeapi\n",
    "from MCForecastTools import MCSimulation\n",
    "\n",
    "%matplotlib inline"
   ]
  },
  {
   "cell_type": "code",
   "execution_count": 2,
   "metadata": {},
   "outputs": [
    {
     "data": {
      "text/plain": [
       "True"
      ]
     },
     "execution_count": 2,
     "metadata": {},
     "output_type": "execute_result"
    }
   ],
   "source": [
    "# Load .env enviroment variables\n",
    "load_dotenv()"
   ]
  },
  {
   "cell_type": "markdown",
   "metadata": {},
   "source": [
    "## Part 1 - Personal Finance Planner"
   ]
  },
  {
   "cell_type": "markdown",
   "metadata": {},
   "source": [
    "### Collect Crypto Prices Using the `requests` Library"
   ]
  },
  {
   "cell_type": "code",
   "execution_count": 3,
   "metadata": {},
   "outputs": [],
   "source": [
    "# Set current amount of crypto assets\n",
    "my_btc = 1.2\n",
    "my_eth = 5.3"
   ]
  },
  {
   "cell_type": "code",
   "execution_count": 4,
   "metadata": {},
   "outputs": [],
   "source": [
    "# Create variable to hold Crypto API request urls\n",
    "btc_url = \"https://api.alternative.me/v2/ticker/Bitcoin/?convert=CAD?format=json\"\n",
    "eth_url = \"https://api.alternative.me/v2/ticker/Ethereum/?convert=CAD?format=json\""
   ]
  },
  {
   "cell_type": "code",
   "execution_count": 5,
   "metadata": {},
   "outputs": [
    {
     "data": {
      "text/plain": [
       "<Response [200]>"
      ]
     },
     "execution_count": 5,
     "metadata": {},
     "output_type": "execute_result"
    }
   ],
   "source": [
    "# Execute get request\n",
    "requests.get(btc_url)"
   ]
  },
  {
   "cell_type": "code",
   "execution_count": 6,
   "metadata": {},
   "outputs": [],
   "source": [
    "# Execute get request and store response\n",
    "btc_response_data = requests.get(btc_url)"
   ]
  },
  {
   "cell_type": "code",
   "execution_count": 7,
   "metadata": {},
   "outputs": [
    {
     "name": "stdout",
     "output_type": "stream",
     "text": [
      "b'{\\n\\t\"data\": {\\n\\t\\t\"1\": {\\n\\t\\t\\t\"id\": 1,\\n\\t\\t\\t\"name\": \"Bitcoin\",\\n\\t\\t\\t\"symbol\": \"BTC\",\\n\\t\\t\\t\"website_slug\": \"bitcoin\",\\n\\t\\t\\t\"rank\": 1,\\n\\t\\t\\t\"circulating_supply\": 18940125,\\n\\t\\t\\t\"total_supply\": 18940125,\\n\\t\\t\\t\"max_supply\": 21000000,\\n\\t\\t\\t\"quotes\": {\\n\\t\\t\\t\\t\"USD\": {\\n\\t\\t\\t\\t\\t\"price\": 37205.0000000000000000,\\n\\t\\t\\t\\t\\t\"volume_24h\": 45876451796,\\n\\t\\t\\t\\t\\t\"market_cap\": 701886385305,\\n\\t\\t\\t\\t\\t\"percentage_change_1h\": 0.5079262464152680,\\n\\t\\t\\t\\t\\t\"percentage_change_24h\": 2.6725647821028300,\\n\\t\\t\\t\\t\\t\"percentage_change_7d\": -12.2422641690257000,\\n\\t\\t\\t\\t\\t\"percent_change_1h\": 0.5079262464152680,\\n\\t\\t\\t\\t\\t\"percent_change_24h\": 2.6725647821028300,\\n\\t\\t\\t\\t\\t\"percent_change_7d\": -12.2422641690257000\\n\\t\\t\\t\\t}\\n\\t\\t\\t},\\n\\t\\t\\t\"last_updated\": 1643167436\\n\\t\\t}\\n\\t},\\n\\t\"metadata\": {\\n\\t\\t\"timestamp\": 1643167436,\\n\\t\\t\"num_cryptocurrencies\": 3105,\\n\\t\\t\"error\": null\\n\\t}\\n}'\n"
     ]
    }
   ],
   "source": [
    "# Get content\n",
    "btc_response_content = btc_response_data.content\n",
    "print(btc_response_content)"
   ]
  },
  {
   "cell_type": "code",
   "execution_count": 8,
   "metadata": {},
   "outputs": [
    {
     "name": "stdout",
     "output_type": "stream",
     "text": [
      "{'data': {'1': {'id': 1, 'name': 'Bitcoin', 'symbol': 'BTC', 'website_slug': 'bitcoin', 'rank': 1, 'circulating_supply': 18940125, 'total_supply': 18940125, 'max_supply': 21000000, 'quotes': {'USD': {'price': 37205.0, 'volume_24h': 45876451796, 'market_cap': 701886385305, 'percentage_change_1h': 0.507926246415268, 'percentage_change_24h': 2.67256478210283, 'percentage_change_7d': -12.2422641690257, 'percent_change_1h': 0.507926246415268, 'percent_change_24h': 2.67256478210283, 'percent_change_7d': -12.2422641690257}}, 'last_updated': 1643167436}}, 'metadata': {'timestamp': 1643167436, 'num_cryptocurrencies': 3105, 'error': None}}\n"
     ]
    }
   ],
   "source": [
    "# Use json function from json library to format\n",
    "btc_data = btc_response_data.json()\n",
    "print(btc_data)"
   ]
  },
  {
   "cell_type": "code",
   "execution_count": 9,
   "metadata": {},
   "outputs": [
    {
     "name": "stdout",
     "output_type": "stream",
     "text": [
      "37205.0\n"
     ]
    }
   ],
   "source": [
    "# Fetch current BTC price \n",
    "btc_price = btc_data['data']['1']['quotes']['USD']['price']\n",
    "print(btc_price)"
   ]
  },
  {
   "cell_type": "code",
   "execution_count": 10,
   "metadata": {},
   "outputs": [
    {
     "name": "stdout",
     "output_type": "stream",
     "text": [
      "44646.0\n"
     ]
    }
   ],
   "source": [
    "# Compute current BTC crypto value\n",
    "my_btc_value = btc_price * my_btc\n",
    "print(my_btc_value)"
   ]
  },
  {
   "cell_type": "code",
   "execution_count": 11,
   "metadata": {},
   "outputs": [
    {
     "name": "stdout",
     "output_type": "stream",
     "text": [
      "The current value of your 1.2 BTC is $44646.00\n"
     ]
    }
   ],
   "source": [
    "# Print current BTC crypto wallet balance\n",
    "print(f\"The current value of your {my_btc} BTC is ${my_btc_value:0.2f}\")"
   ]
  },
  {
   "cell_type": "code",
   "execution_count": 12,
   "metadata": {},
   "outputs": [
    {
     "data": {
      "text/plain": [
       "<Response [200]>"
      ]
     },
     "execution_count": 12,
     "metadata": {},
     "output_type": "execute_result"
    }
   ],
   "source": [
    "# Execute get request\n",
    "requests.get(eth_url)"
   ]
  },
  {
   "cell_type": "code",
   "execution_count": 13,
   "metadata": {},
   "outputs": [],
   "source": [
    "# Execute get request and store response\n",
    "eth_response_data = requests.get(eth_url)"
   ]
  },
  {
   "cell_type": "code",
   "execution_count": 14,
   "metadata": {},
   "outputs": [
    {
     "name": "stdout",
     "output_type": "stream",
     "text": [
      "b'{\\n\\t\"data\": {\\n\\t\\t\"1\": {\\n\\t\\t\\t\"id\": 1,\\n\\t\\t\\t\"name\": \"Bitcoin\",\\n\\t\\t\\t\"symbol\": \"BTC\",\\n\\t\\t\\t\"website_slug\": \"bitcoin\",\\n\\t\\t\\t\"rank\": 1,\\n\\t\\t\\t\"circulating_supply\": 18940125,\\n\\t\\t\\t\"total_supply\": 18940125,\\n\\t\\t\\t\"max_supply\": 21000000,\\n\\t\\t\\t\"quotes\": {\\n\\t\\t\\t\\t\"USD\": {\\n\\t\\t\\t\\t\\t\"price\": 37205.0000000000000000,\\n\\t\\t\\t\\t\\t\"volume_24h\": 45876451796,\\n\\t\\t\\t\\t\\t\"market_cap\": 701886385305,\\n\\t\\t\\t\\t\\t\"percentage_change_1h\": 0.5079262464152680,\\n\\t\\t\\t\\t\\t\"percentage_change_24h\": 2.6725647821028300,\\n\\t\\t\\t\\t\\t\"percentage_change_7d\": -12.2422641690257000,\\n\\t\\t\\t\\t\\t\"percent_change_1h\": 0.5079262464152680,\\n\\t\\t\\t\\t\\t\"percent_change_24h\": 2.6725647821028300,\\n\\t\\t\\t\\t\\t\"percent_change_7d\": -12.2422641690257000\\n\\t\\t\\t\\t}\\n\\t\\t\\t},\\n\\t\\t\\t\"last_updated\": 1643167436\\n\\t\\t}\\n\\t},\\n\\t\"metadata\": {\\n\\t\\t\"timestamp\": 1643167436,\\n\\t\\t\"num_cryptocurrencies\": 3105,\\n\\t\\t\"error\": null\\n\\t}\\n}'\n"
     ]
    }
   ],
   "source": [
    "# Get JSON content\n",
    "eth_response_content = eth_response_data.content\n",
    "print(btc_response_content)"
   ]
  },
  {
   "cell_type": "code",
   "execution_count": 15,
   "metadata": {},
   "outputs": [
    {
     "name": "stdout",
     "output_type": "stream",
     "text": [
      "{'data': {'1027': {'id': 1027, 'name': 'Ethereum', 'symbol': 'ETH', 'website_slug': 'ethereum', 'rank': 2, 'circulating_supply': 119313855, 'total_supply': 119313855, 'max_supply': 0, 'quotes': {'USD': {'price': 2473.67, 'volume_24h': 15712825545, 'market_cap': 293636864296, 'percentage_change_1h': 0.611042677942329, 'percentage_change_24h': 2.83639751874296, 'percentage_change_7d': -21.8788348727502, 'percent_change_1h': 0.611042677942329, 'percent_change_24h': 2.83639751874296, 'percent_change_7d': -21.8788348727502}}, 'last_updated': 1643167418}}, 'metadata': {'timestamp': 1643167418, 'num_cryptocurrencies': 3105, 'error': None}}\n"
     ]
    }
   ],
   "source": [
    "# Use JSON function from JSON library to format\n",
    "eth_data = eth_response_data.json()\n",
    "print(eth_data)"
   ]
  },
  {
   "cell_type": "code",
   "execution_count": 16,
   "metadata": {},
   "outputs": [
    {
     "name": "stdout",
     "output_type": "stream",
     "text": [
      "2473.67\n"
     ]
    }
   ],
   "source": [
    "# Fetch current ETH price\n",
    "eth_price = eth_data['data']['1027']['quotes']['USD']['price']\n",
    "print(eth_price)"
   ]
  },
  {
   "cell_type": "code",
   "execution_count": 17,
   "metadata": {},
   "outputs": [
    {
     "name": "stdout",
     "output_type": "stream",
     "text": [
      "13110.451\n"
     ]
    }
   ],
   "source": [
    "# Compute current ETH crypto value\n",
    "my_eth_value = eth_price * my_eth\n",
    "print(my_eth_value)"
   ]
  },
  {
   "cell_type": "code",
   "execution_count": 18,
   "metadata": {},
   "outputs": [
    {
     "name": "stdout",
     "output_type": "stream",
     "text": [
      "The current value of your 5.3 ETH is $13110.45\n"
     ]
    }
   ],
   "source": [
    "# Print current ETH crypto wallet balance\n",
    "print(f\"The current value of your {my_eth} ETH is ${my_eth_value:0.2f}\")"
   ]
  },
  {
   "cell_type": "markdown",
   "metadata": {},
   "source": [
    "### Collect Investments Data Using Alpaca: `SPY` (stocks) and `AGG` (bonds)"
   ]
  },
  {
   "cell_type": "code",
   "execution_count": 19,
   "metadata": {},
   "outputs": [],
   "source": [
    "# Set current amount of shares\n",
    "my_agg = 200\n",
    "my_spy = 50"
   ]
  },
  {
   "cell_type": "code",
   "execution_count": 20,
   "metadata": {},
   "outputs": [
    {
     "data": {
      "text/plain": [
       "True"
      ]
     },
     "execution_count": 20,
     "metadata": {},
     "output_type": "execute_result"
    }
   ],
   "source": [
    " # Load .env enviroment\n",
    "load_dotenv()"
   ]
  },
  {
   "cell_type": "code",
   "execution_count": 2,
   "metadata": {},
   "outputs": [],
   "source": [
    "# Set Alpaca API key and secret\n",
    "alpaca_api_key = os.getenv(\"ALPACA_API_KEY\")\n",
    "alpaca_secret_key = os.getenv(\"ALPACA_SECRET_KEY\")"
   ]
  },
  {
   "cell_type": "code",
   "execution_count": null,
   "metadata": {},
   "outputs": [],
   "source": [
    "# Create the Alpaca API object\n",
    "api = tradeapi.REST(\n",
    "    alpaca_api_key,\n",
    "    alpaca_secret_key,\n",
    "    api_version=\"v2\"\n",
    ")"
   ]
  },
  {
   "cell_type": "code",
   "execution_count": 24,
   "metadata": {},
   "outputs": [],
   "source": [
    "# Format current date as ISO format\n",
    "today = pd.Timestamp(\"2022-01-23\", tz=\"America/New_York\").isoformat()"
   ]
  },
  {
   "cell_type": "code",
   "execution_count": 25,
   "metadata": {},
   "outputs": [],
   "source": [
    "# Set start and end datetimes of 1000 days from now, between now and 365 days ago\n",
    "start_date = pd.Timestamp(\"2021-01-24\", tz=\"America/New_York\").isoformat()\n",
    "end_date = pd.Timestamp(\"2022-01-24\", tz=\"America/New_York\").isoformat()"
   ]
  },
  {
   "cell_type": "code",
   "execution_count": 26,
   "metadata": {},
   "outputs": [],
   "source": [
    "# Set the tickers\n",
    "tickers = [\"AGG\", \"SPY\"]"
   ]
  },
  {
   "cell_type": "code",
   "execution_count": 27,
   "metadata": {},
   "outputs": [],
   "source": [
    "# Set timeframe to '1D'\n",
    "timeframe = \"1D\""
   ]
  },
  {
   "cell_type": "code",
   "execution_count": null,
   "metadata": {},
   "outputs": [],
   "source": [
    "# Get current closing prices for SPY and AGG\n",
    "current_price = api.get_barset(\n",
    "    tickers,\n",
    "    timeframe,\n",
    "    start = start_date,\n",
    "    end = end_date,\n",
    "    limit = 1000\n",
    ").df"
   ]
  },
  {
   "cell_type": "code",
   "execution_count": null,
   "metadata": {},
   "outputs": [],
   "source": [
    "# Display sample data\n",
    "current_price.head()"
   ]
  },
  {
   "cell_type": "code",
   "execution_count": 7,
   "metadata": {},
   "outputs": [
    {
     "data": {
      "text/html": [
       "<div>\n",
       "<style scoped>\n",
       "    .dataframe tbody tr th:only-of-type {\n",
       "        vertical-align: middle;\n",
       "    }\n",
       "\n",
       "    .dataframe tbody tr th {\n",
       "        vertical-align: top;\n",
       "    }\n",
       "\n",
       "    .dataframe thead th {\n",
       "        text-align: right;\n",
       "    }\n",
       "</style>\n",
       "<table border=\"1\" class=\"dataframe\">\n",
       "  <thead>\n",
       "    <tr style=\"text-align: right;\">\n",
       "      <th></th>\n",
       "    </tr>\n",
       "  </thead>\n",
       "  <tbody>\n",
       "  </tbody>\n",
       "</table>\n",
       "</div>"
      ],
      "text/plain": [
       "Empty DataFrame\n",
       "Columns: []\n",
       "Index: []"
      ]
     },
     "execution_count": 7,
     "metadata": {},
     "output_type": "execute_result"
    }
   ],
   "source": [
    "# Transform the function's response to a Pandas DataFrame and preview the data\n",
    "current_price = pd.DataFrame(current_price)\n",
    "current_price"
   ]
  },
  {
   "cell_type": "code",
   "execution_count": null,
   "metadata": {},
   "outputs": [],
   "source": [
    "# Fetch AGG's current closing price from the DataFrame\n",
    "agg_closing_price = float(current_price[\"AGG\"][\"close\"])\n",
    "\n",
    "# Display closing price\n",
    "agg_closing_price"
   ]
  },
  {
   "cell_type": "code",
   "execution_count": null,
   "metadata": {},
   "outputs": [],
   "source": [
    "# Print AGG current closing price\n",
    "print(f\"Current AGG closing price: ${agg_closing_price}\")"
   ]
  },
  {
   "cell_type": "code",
   "execution_count": null,
   "metadata": {},
   "outputs": [],
   "source": [
    "# Fetch SPY's current closing price from the DataFrame\n",
    "spy_closing_price = float(current_price[\"SPY\"][\"close\"])\n",
    "\n",
    "# Display closing prices\n",
    "spy_closing_price"
   ]
  },
  {
   "cell_type": "code",
   "execution_count": null,
   "metadata": {},
   "outputs": [],
   "source": [
    "# Print SPY current closing price\n",
    "print(f\"Current SPY closing price: ${spy_closing_price}\")"
   ]
  },
  {
   "cell_type": "code",
   "execution_count": null,
   "metadata": {},
   "outputs": [],
   "source": [
    "# Compute the current value of AGG shares\n",
    "agg_value = agg_closing_price * current_price.loc[\"AGG\"][\"my_agg\"]"
   ]
  },
  {
   "cell_type": "code",
   "execution_count": null,
   "metadata": {},
   "outputs": [],
   "source": [
    "# Compute the current value of SPY shares\n",
    "spy_value = spy_closing_price * current_price.loc[\"SPY\"][\"my_spy\"]"
   ]
  },
  {
   "cell_type": "code",
   "execution_count": null,
   "metadata": {},
   "outputs": [],
   "source": [
    "# Print current value of AGG shares\n",
    "print(f\"The current value of your {my_agg} AGG shares is ${agg_value:0.2f}\")"
   ]
  },
  {
   "cell_type": "code",
   "execution_count": null,
   "metadata": {},
   "outputs": [],
   "source": [
    "# Print current value of SPY shares\n",
    "print(f\"The current value of your {my_spy} SPY shares is ${spy_value:0.2f}\")"
   ]
  },
  {
   "cell_type": "markdown",
   "metadata": {},
   "source": [
    "### Savings Health Analysis"
   ]
  },
  {
   "cell_type": "code",
   "execution_count": 40,
   "metadata": {},
   "outputs": [],
   "source": [
    "# Set monthly household income\n",
    "monthly_income = 12000"
   ]
  },
  {
   "cell_type": "code",
   "execution_count": 42,
   "metadata": {},
   "outputs": [
    {
     "name": "stdout",
     "output_type": "stream",
     "text": [
      "  Name  Value\n",
      "0  btc  44646\n",
      "1  eth  13110\n"
     ]
    }
   ],
   "source": [
    "# Consolidate Crypto financial assets data\n",
    "combined_crypto_data = {'Name':['btc', 'eth'], 'Value':[44646, 13110]}\n",
    " \n",
    "# Create DataFrame\n",
    "df_combined_crypto_data = pd.DataFrame(combined_crypto_data)\n",
    " \n",
    "# Print the output\n",
    "print(df_combined_crypto_data)"
   ]
  },
  {
   "cell_type": "code",
   "execution_count": 43,
   "metadata": {},
   "outputs": [
    {
     "name": "stdout",
     "output_type": "stream",
     "text": [
      "Total crypto assets:\n",
      "Name     btceth\n",
      "Value     57756\n",
      "dtype: object\n"
     ]
    }
   ],
   "source": [
    "# Get sum of all rows in the Dataframe as a Series to determine total Crypto value\n",
    "total = df_combined_crypto_data.sum()\n",
    "print('Total crypto assets:')\n",
    "print(total)"
   ]
  },
  {
   "cell_type": "code",
   "execution_count": 44,
   "metadata": {},
   "outputs": [
    {
     "name": "stdout",
     "output_type": "stream",
     "text": [
      "  Name  Value\n",
      "0  AGG  23380\n",
      "1  SPY  14136\n"
     ]
    }
   ],
   "source": [
    "# Consolidate financial assets data\n",
    "combined_shares_data = {'Name':['AGG', 'SPY'], 'Value':[23380, 14136]}\n",
    " \n",
    "# Create DataFrame\n",
    "df_combined_shares_data = pd.DataFrame(combined_shares_data)\n",
    " \n",
    "# Print the output\n",
    "print(df_combined_shares_data)"
   ]
  },
  {
   "cell_type": "code",
   "execution_count": 45,
   "metadata": {},
   "outputs": [
    {
     "name": "stdout",
     "output_type": "stream",
     "text": [
      "Total shares assets:\n",
      "Name     AGGSPY\n",
      "Value     37516\n",
      "dtype: object\n"
     ]
    }
   ],
   "source": [
    "# Get sum of all rows in the Dataframe as a Series to determine total Shares value\n",
    "total = df_combined_shares_data.sum()\n",
    "print('Total shares assets:')\n",
    "print(total)"
   ]
  },
  {
   "cell_type": "code",
   "execution_count": 10,
   "metadata": {},
   "outputs": [
    {
     "name": "stdout",
     "output_type": "stream",
     "text": [
      "                                      Name  Value\n",
      "0  Total Value in Dollars of Crypto Assets  57756\n",
      "1         Total Value in Dollars of Shares  37516\n"
     ]
    }
   ],
   "source": [
    "# Consolidate financial assets data\n",
    "combined_shares__crypto_data = {'Name':['Total Value in Dollars of Crypto Assets', 'Total Value in Dollars of Shares'], 'Value':[57756, 37516]}\n",
    "\n",
    "# Create DataFrame\n",
    "df_savings = pd.DataFrame(combined_shares__crypto_data)\n",
    " \n",
    "# Print the output\n",
    "print(df_savings)"
   ]
  },
  {
   "cell_type": "code",
   "execution_count": 11,
   "metadata": {},
   "outputs": [
    {
     "data": {
      "text/plain": [
       "<AxesSubplot:title={'center':'Composition of Personal Savings'}, ylabel='Value'>"
      ]
     },
     "execution_count": 11,
     "metadata": {},
     "output_type": "execute_result"
    },
    {
     "data": {
      "image/png": "[encoded data removed]",
      "text/plain": [
       "<Figure size 432x288 with 1 Axes>"
      ]
     },
     "metadata": {},
     "output_type": "display_data"
    }
   ],
   "source": [
    "# Plot savings pie chart\n",
    "df_savings.groupby(['Name']).sum().plot(kind='pie', y='Value', title='Composition of Personal Savings')"
   ]
  },
  {
   "cell_type": "code",
   "execution_count": null,
   "metadata": {},
   "outputs": [
    {
     "name": "stdout",
     "output_type": "stream",
     "text": [
      "36000\n"
     ]
    }
   ],
   "source": [
    "# Set ideal emergency fund\n",
    "emergency_fund = monthly_income * 3\n",
    "print(emergency_fund)"
   ]
  },
  {
   "cell_type": "code",
   "execution_count": null,
   "metadata": {},
   "outputs": [
    {
     "name": "stdout",
     "output_type": "stream",
     "text": [
      "Total Amount of Savings:\n",
      "Name     Total Value in Dollars of Crypto AssetsTotal V...\n",
      "Value                                                38036\n",
      "dtype: object\n"
     ]
    }
   ],
   "source": [
    "# Calculate total amount of savings\n",
    "total = df_savings.sum()\n",
    "print('Total Amount of Savings:')\n",
    "print(total)"
   ]
  },
  {
   "cell_type": "code",
   "execution_count": null,
   "metadata": {},
   "outputs": [
    {
     "name": "stdout",
     "output_type": "stream",
     "text": [
      "Nice work! You have enough money in this fund.\n"
     ]
    }
   ],
   "source": [
    "# Validate savings health\n",
    "total_savings = 38036\n",
    "emergency_fund = 36000\n",
    "\n",
    "if total_savings > emergency_fund:\n",
    "        print('Nice work! You have enough money in this fund.')"
   ]
  },
  {
   "cell_type": "code",
   "execution_count": null,
   "metadata": {},
   "outputs": [
    {
     "name": "stdout",
     "output_type": "stream",
     "text": [
      "Congrats! You have reached your financial goal.\n"
     ]
    }
   ],
   "source": [
    "# Validate savings health\n",
    "total_savings = 38036\n",
    "emergency_fund = 38036\n",
    "\n",
    "if total_savings == emergency_fund:                            \n",
    "        print('Congrats! You have reached your financial goal.')"
   ]
  },
  {
   "cell_type": "code",
   "execution_count": null,
   "metadata": {},
   "outputs": [
    {
     "name": "stdout",
     "output_type": "stream",
     "text": [
      "Keep it up! You only have $ 2036 more to save.\n"
     ]
    }
   ],
   "source": [
    "# Validate savings health\n",
    "total_savings = 30036\n",
    "emergency_fund = 36000\n",
    "difference = 2036\n",
    "\n",
    "if total_savings < emergency_fund:    \n",
    "        print(\"Keep it up! You only have $\",difference, \"more to save.\")"
   ]
  },
  {
   "cell_type": "markdown",
   "metadata": {},
   "source": [
    "## Part 2 - Retirement Planning\n",
    "\n",
    "### Monte Carlo Simulation"
   ]
  },
  {
   "cell_type": "code",
   "execution_count": 12,
   "metadata": {},
   "outputs": [],
   "source": [
    "# Set start and end dates of five years back from today\n",
    "start_date = pd.Timestamp('2017-24-01', tz='America/New_York').isoformat()\n",
    "end_date = pd.Timestamp('2022-24-01', tz='America/New_York').isoformat()"
   ]
  },
  {
   "cell_type": "code",
   "execution_count": 13,
   "metadata": {},
   "outputs": [],
   "source": [
    "# Set the tickers\n",
    "tickers = [\"AGG\", \"SPY\"]"
   ]
  },
  {
   "cell_type": "code",
   "execution_count": null,
   "metadata": {},
   "outputs": [],
   "source": [
    "# Get 5 years' worth of historical data for SPY and AGG\n",
    "df_stock_data = api.get_barset(\n",
    "    tickers,\n",
    "    timeframe,\n",
    "    start = start_date,\n",
    "    end = end_date,\n",
    "    limit = 1000\n",
    ").df\n",
    "\n",
    "# Display sample data\n",
    "df_stock_data.head()"
   ]
  },
  {
   "cell_type": "code",
   "execution_count": null,
   "metadata": {},
   "outputs": [],
   "source": [
    "# Set number of simulations\n",
    "num_sims = 500\n",
    "\n",
    "# Configure a Monte Carlo simulation to forecast 30 years cumulative returns\n",
    "MC_thirtyyears = MCSimulation(\n",
    "    portfolio_data = df_stock_data,\n",
    "    weights = [.60,.40],\n",
    "    num_simulation = num_sims,\n",
    "    num_trading_days = 252*30)"
   ]
  },
  {
   "cell_type": "code",
   "execution_count": null,
   "metadata": {},
   "outputs": [
    {
     "data": {
      "text/html": [
       "<div>\n",
       "<style scoped>\n",
       "    .dataframe tbody tr th:only-of-type {\n",
       "        vertical-align: middle;\n",
       "    }\n",
       "\n",
       "    .dataframe tbody tr th {\n",
       "        vertical-align: top;\n",
       "    }\n",
       "\n",
       "    .dataframe thead tr th {\n",
       "        text-align: left;\n",
       "    }\n",
       "\n",
       "    .dataframe thead tr:last-of-type th {\n",
       "        text-align: right;\n",
       "    }\n",
       "</style>\n",
       "<table border=\"1\" class=\"dataframe\">\n",
       "  <thead>\n",
       "    <tr>\n",
       "      <th></th>\n",
       "      <th colspan=\"6\" halign=\"left\">AGG</th>\n",
       "      <th colspan=\"6\" halign=\"left\">SPY</th>\n",
       "    </tr>\n",
       "    <tr>\n",
       "      <th></th>\n",
       "      <th>open</th>\n",
       "      <th>high</th>\n",
       "      <th>low</th>\n",
       "      <th>close</th>\n",
       "      <th>volume</th>\n",
       "      <th>daily_return</th>\n",
       "      <th>open</th>\n",
       "      <th>high</th>\n",
       "      <th>low</th>\n",
       "      <th>close</th>\n",
       "      <th>volume</th>\n",
       "      <th>daily_return</th>\n",
       "    </tr>\n",
       "    <tr>\n",
       "      <th>time</th>\n",
       "      <th></th>\n",
       "      <th></th>\n",
       "      <th></th>\n",
       "      <th></th>\n",
       "      <th></th>\n",
       "      <th></th>\n",
       "      <th></th>\n",
       "      <th></th>\n",
       "      <th></th>\n",
       "      <th></th>\n",
       "      <th></th>\n",
       "      <th></th>\n",
       "    </tr>\n",
       "  </thead>\n",
       "  <tbody>\n",
       "    <tr>\n",
       "      <th>2017-05-10 00:00:00-04:00</th>\n",
       "      <td>108.60</td>\n",
       "      <td>108.660</td>\n",
       "      <td>108.4400</td>\n",
       "      <td>108.520</td>\n",
       "      <td>1427511.0</td>\n",
       "      <td>NaN</td>\n",
       "      <td>NaN</td>\n",
       "      <td>NaN</td>\n",
       "      <td>NaN</td>\n",
       "      <td>NaN</td>\n",
       "      <td>NaN</td>\n",
       "      <td>NaN</td>\n",
       "    </tr>\n",
       "    <tr>\n",
       "      <th>2017-05-11 00:00:00-04:00</th>\n",
       "      <td>108.35</td>\n",
       "      <td>108.540</td>\n",
       "      <td>108.3435</td>\n",
       "      <td>108.515</td>\n",
       "      <td>1773499.0</td>\n",
       "      <td>-0.000046</td>\n",
       "      <td>239.35</td>\n",
       "      <td>239.57</td>\n",
       "      <td>238.13</td>\n",
       "      <td>239.410</td>\n",
       "      <td>45435690.0</td>\n",
       "      <td>NaN</td>\n",
       "    </tr>\n",
       "    <tr>\n",
       "      <th>2017-05-12 00:00:00-04:00</th>\n",
       "      <td>108.81</td>\n",
       "      <td>108.940</td>\n",
       "      <td>108.7800</td>\n",
       "      <td>108.920</td>\n",
       "      <td>1136553.0</td>\n",
       "      <td>0.003732</td>\n",
       "      <td>239.09</td>\n",
       "      <td>239.21</td>\n",
       "      <td>238.67</td>\n",
       "      <td>239.030</td>\n",
       "      <td>35283567.0</td>\n",
       "      <td>-0.001587</td>\n",
       "    </tr>\n",
       "    <tr>\n",
       "      <th>2017-05-15 00:00:00-04:00</th>\n",
       "      <td>108.85</td>\n",
       "      <td>108.940</td>\n",
       "      <td>108.8200</td>\n",
       "      <td>108.890</td>\n",
       "      <td>1620264.0</td>\n",
       "      <td>-0.000275</td>\n",
       "      <td>239.47</td>\n",
       "      <td>240.44</td>\n",
       "      <td>239.45</td>\n",
       "      <td>240.245</td>\n",
       "      <td>42230620.0</td>\n",
       "      <td>0.005083</td>\n",
       "    </tr>\n",
       "    <tr>\n",
       "      <th>2017-05-16 00:00:00-04:00</th>\n",
       "      <td>108.88</td>\n",
       "      <td>109.101</td>\n",
       "      <td>108.8800</td>\n",
       "      <td>109.000</td>\n",
       "      <td>1394153.0</td>\n",
       "      <td>0.001010</td>\n",
       "      <td>240.62</td>\n",
       "      <td>240.67</td>\n",
       "      <td>239.63</td>\n",
       "      <td>240.100</td>\n",
       "      <td>37206183.0</td>\n",
       "      <td>-0.000604</td>\n",
       "    </tr>\n",
       "  </tbody>\n",
       "</table>\n",
       "</div>"
      ],
      "text/plain": [
       "                              AGG                                         \\\n",
       "                             open     high       low    close     volume   \n",
       "time                                                                       \n",
       "2017-05-10 00:00:00-04:00  108.60  108.660  108.4400  108.520  1427511.0   \n",
       "2017-05-11 00:00:00-04:00  108.35  108.540  108.3435  108.515  1773499.0   \n",
       "2017-05-12 00:00:00-04:00  108.81  108.940  108.7800  108.920  1136553.0   \n",
       "2017-05-15 00:00:00-04:00  108.85  108.940  108.8200  108.890  1620264.0   \n",
       "2017-05-16 00:00:00-04:00  108.88  109.101  108.8800  109.000  1394153.0   \n",
       "\n",
       "                                           SPY                           \\\n",
       "                          daily_return    open    high     low    close   \n",
       "time                                                                      \n",
       "2017-05-10 00:00:00-04:00          NaN     NaN     NaN     NaN      NaN   \n",
       "2017-05-11 00:00:00-04:00    -0.000046  239.35  239.57  238.13  239.410   \n",
       "2017-05-12 00:00:00-04:00     0.003732  239.09  239.21  238.67  239.030   \n",
       "2017-05-15 00:00:00-04:00    -0.000275  239.47  240.44  239.45  240.245   \n",
       "2017-05-16 00:00:00-04:00     0.001010  240.62  240.67  239.63  240.100   \n",
       "\n",
       "                                                    \n",
       "                               volume daily_return  \n",
       "time                                                \n",
       "2017-05-10 00:00:00-04:00         NaN          NaN  \n",
       "2017-05-11 00:00:00-04:00  45435690.0          NaN  \n",
       "2017-05-12 00:00:00-04:00  35283567.0    -0.001587  \n",
       "2017-05-15 00:00:00-04:00  42230620.0     0.005083  \n",
       "2017-05-16 00:00:00-04:00  37206183.0    -0.000604  "
      ]
     },
     "execution_count": 17,
     "metadata": {},
     "output_type": "execute_result"
    }
   ],
   "source": [
    "# Print the simulation input data\n",
    "MC_thirtyyears.portfolio_data.head()"
   ]
  },
  {
   "cell_type": "code",
   "execution_count": null,
   "metadata": {},
   "outputs": [
    {
     "name": "stdout",
     "output_type": "stream",
     "text": [
      "Running Monte Carlo simulation number 0.\n",
      "Running Monte Carlo simulation number 10.\n",
      "Running Monte Carlo simulation number 20.\n",
      "Running Monte Carlo simulation number 30.\n",
      "Running Monte Carlo simulation number 40.\n",
      "Running Monte Carlo simulation number 50.\n",
      "Running Monte Carlo simulation number 60.\n",
      "Running Monte Carlo simulation number 70.\n",
      "Running Monte Carlo simulation number 80.\n",
      "Running Monte Carlo simulation number 90.\n",
      "Running Monte Carlo simulation number 100.\n",
      "Running Monte Carlo simulation number 110.\n",
      "Running Monte Carlo simulation number 120.\n",
      "Running Monte Carlo simulation number 130.\n",
      "Running Monte Carlo simulation number 140.\n",
      "Running Monte Carlo simulation number 150.\n",
      "Running Monte Carlo simulation number 160.\n",
      "Running Monte Carlo simulation number 170.\n",
      "Running Monte Carlo simulation number 180.\n",
      "Running Monte Carlo simulation number 190.\n",
      "Running Monte Carlo simulation number 200.\n",
      "Running Monte Carlo simulation number 210.\n",
      "Running Monte Carlo simulation number 220.\n",
      "Running Monte Carlo simulation number 230.\n",
      "Running Monte Carlo simulation number 240.\n",
      "Running Monte Carlo simulation number 250.\n",
      "Running Monte Carlo simulation number 260.\n",
      "Running Monte Carlo simulation number 270.\n",
      "Running Monte Carlo simulation number 280.\n",
      "Running Monte Carlo simulation number 290.\n",
      "Running Monte Carlo simulation number 300.\n",
      "Running Monte Carlo simulation number 310.\n",
      "Running Monte Carlo simulation number 320.\n",
      "Running Monte Carlo simulation number 330.\n",
      "Running Monte Carlo simulation number 340.\n",
      "Running Monte Carlo simulation number 350.\n",
      "Running Monte Carlo simulation number 360.\n",
      "Running Monte Carlo simulation number 370.\n",
      "Running Monte Carlo simulation number 380.\n",
      "Running Monte Carlo simulation number 390.\n",
      "Running Monte Carlo simulation number 400.\n",
      "Running Monte Carlo simulation number 410.\n",
      "Running Monte Carlo simulation number 420.\n",
      "Running Monte Carlo simulation number 430.\n",
      "Running Monte Carlo simulation number 440.\n",
      "Running Monte Carlo simulation number 450.\n",
      "Running Monte Carlo simulation number 460.\n",
      "Running Monte Carlo simulation number 470.\n",
      "Running Monte Carlo simulation number 480.\n",
      "Running Monte Carlo simulation number 490.\n"
     ]
    },
    {
     "data": {
      "text/html": [
       "<div>\n",
       "<style scoped>\n",
       "    .dataframe tbody tr th:only-of-type {\n",
       "        vertical-align: middle;\n",
       "    }\n",
       "\n",
       "    .dataframe tbody tr th {\n",
       "        vertical-align: top;\n",
       "    }\n",
       "\n",
       "    .dataframe thead th {\n",
       "        text-align: right;\n",
       "    }\n",
       "</style>\n",
       "<table border=\"1\" class=\"dataframe\">\n",
       "  <thead>\n",
       "    <tr style=\"text-align: right;\">\n",
       "      <th></th>\n",
       "      <th>0</th>\n",
       "      <th>1</th>\n",
       "      <th>2</th>\n",
       "      <th>3</th>\n",
       "      <th>4</th>\n",
       "      <th>5</th>\n",
       "      <th>6</th>\n",
       "      <th>7</th>\n",
       "      <th>8</th>\n",
       "      <th>9</th>\n",
       "      <th>...</th>\n",
       "      <th>490</th>\n",
       "      <th>491</th>\n",
       "      <th>492</th>\n",
       "      <th>493</th>\n",
       "      <th>494</th>\n",
       "      <th>495</th>\n",
       "      <th>496</th>\n",
       "      <th>497</th>\n",
       "      <th>498</th>\n",
       "      <th>499</th>\n",
       "    </tr>\n",
       "  </thead>\n",
       "  <tbody>\n",
       "    <tr>\n",
       "      <th>0</th>\n",
       "      <td>1.000000</td>\n",
       "      <td>1.000000</td>\n",
       "      <td>1.000000</td>\n",
       "      <td>1.000000</td>\n",
       "      <td>1.000000</td>\n",
       "      <td>1.000000</td>\n",
       "      <td>1.000000</td>\n",
       "      <td>1.000000</td>\n",
       "      <td>1.000000</td>\n",
       "      <td>1.000000</td>\n",
       "      <td>...</td>\n",
       "      <td>1.000000</td>\n",
       "      <td>1.000000</td>\n",
       "      <td>1.000000</td>\n",
       "      <td>1.000000</td>\n",
       "      <td>1.000000</td>\n",
       "      <td>1.000000</td>\n",
       "      <td>1.000000</td>\n",
       "      <td>1.000000</td>\n",
       "      <td>1.000000</td>\n",
       "      <td>1.000000</td>\n",
       "    </tr>\n",
       "    <tr>\n",
       "      <th>1</th>\n",
       "      <td>1.009035</td>\n",
       "      <td>1.019800</td>\n",
       "      <td>1.007274</td>\n",
       "      <td>0.993537</td>\n",
       "      <td>0.999989</td>\n",
       "      <td>1.006793</td>\n",
       "      <td>0.987234</td>\n",
       "      <td>0.991026</td>\n",
       "      <td>0.999287</td>\n",
       "      <td>0.989965</td>\n",
       "      <td>...</td>\n",
       "      <td>1.008802</td>\n",
       "      <td>0.990631</td>\n",
       "      <td>0.998367</td>\n",
       "      <td>0.996306</td>\n",
       "      <td>1.005638</td>\n",
       "      <td>0.999298</td>\n",
       "      <td>1.003740</td>\n",
       "      <td>0.995918</td>\n",
       "      <td>0.997987</td>\n",
       "      <td>0.987705</td>\n",
       "    </tr>\n",
       "    <tr>\n",
       "      <th>2</th>\n",
       "      <td>1.015749</td>\n",
       "      <td>1.016643</td>\n",
       "      <td>1.021442</td>\n",
       "      <td>0.987915</td>\n",
       "      <td>1.000572</td>\n",
       "      <td>1.007587</td>\n",
       "      <td>0.989688</td>\n",
       "      <td>0.995665</td>\n",
       "      <td>1.004104</td>\n",
       "      <td>0.985250</td>\n",
       "      <td>...</td>\n",
       "      <td>1.010723</td>\n",
       "      <td>0.982956</td>\n",
       "      <td>0.998577</td>\n",
       "      <td>0.981389</td>\n",
       "      <td>1.018035</td>\n",
       "      <td>1.000601</td>\n",
       "      <td>1.002730</td>\n",
       "      <td>0.980490</td>\n",
       "      <td>1.011566</td>\n",
       "      <td>0.984374</td>\n",
       "    </tr>\n",
       "    <tr>\n",
       "      <th>3</th>\n",
       "      <td>0.991994</td>\n",
       "      <td>1.011483</td>\n",
       "      <td>1.030600</td>\n",
       "      <td>0.997095</td>\n",
       "      <td>0.997604</td>\n",
       "      <td>1.005709</td>\n",
       "      <td>0.994743</td>\n",
       "      <td>0.997920</td>\n",
       "      <td>0.994627</td>\n",
       "      <td>0.997900</td>\n",
       "      <td>...</td>\n",
       "      <td>1.012315</td>\n",
       "      <td>0.989154</td>\n",
       "      <td>0.981850</td>\n",
       "      <td>0.971472</td>\n",
       "      <td>1.006515</td>\n",
       "      <td>1.002006</td>\n",
       "      <td>1.004207</td>\n",
       "      <td>0.984857</td>\n",
       "      <td>1.011721</td>\n",
       "      <td>0.987595</td>\n",
       "    </tr>\n",
       "    <tr>\n",
       "      <th>4</th>\n",
       "      <td>0.987360</td>\n",
       "      <td>1.008866</td>\n",
       "      <td>1.034499</td>\n",
       "      <td>1.000035</td>\n",
       "      <td>0.996255</td>\n",
       "      <td>1.003667</td>\n",
       "      <td>0.994341</td>\n",
       "      <td>0.979276</td>\n",
       "      <td>0.999065</td>\n",
       "      <td>0.996478</td>\n",
       "      <td>...</td>\n",
       "      <td>1.016074</td>\n",
       "      <td>0.968970</td>\n",
       "      <td>0.987125</td>\n",
       "      <td>0.972621</td>\n",
       "      <td>1.010508</td>\n",
       "      <td>1.005873</td>\n",
       "      <td>1.004374</td>\n",
       "      <td>0.987862</td>\n",
       "      <td>1.008460</td>\n",
       "      <td>1.000726</td>\n",
       "    </tr>\n",
       "    <tr>\n",
       "      <th>...</th>\n",
       "      <td>...</td>\n",
       "      <td>...</td>\n",
       "      <td>...</td>\n",
       "      <td>...</td>\n",
       "      <td>...</td>\n",
       "      <td>...</td>\n",
       "      <td>...</td>\n",
       "      <td>...</td>\n",
       "      <td>...</td>\n",
       "      <td>...</td>\n",
       "      <td>...</td>\n",
       "      <td>...</td>\n",
       "      <td>...</td>\n",
       "      <td>...</td>\n",
       "      <td>...</td>\n",
       "      <td>...</td>\n",
       "      <td>...</td>\n",
       "      <td>...</td>\n",
       "      <td>...</td>\n",
       "      <td>...</td>\n",
       "      <td>...</td>\n",
       "    </tr>\n",
       "    <tr>\n",
       "      <th>7556</th>\n",
       "      <td>15.161399</td>\n",
       "      <td>13.710953</td>\n",
       "      <td>7.014478</td>\n",
       "      <td>13.250531</td>\n",
       "      <td>17.253323</td>\n",
       "      <td>6.504709</td>\n",
       "      <td>17.273753</td>\n",
       "      <td>8.488013</td>\n",
       "      <td>10.957276</td>\n",
       "      <td>13.189109</td>\n",
       "      <td>...</td>\n",
       "      <td>8.223420</td>\n",
       "      <td>12.288181</td>\n",
       "      <td>12.515016</td>\n",
       "      <td>19.375254</td>\n",
       "      <td>10.173651</td>\n",
       "      <td>22.237832</td>\n",
       "      <td>29.862674</td>\n",
       "      <td>5.580458</td>\n",
       "      <td>13.105158</td>\n",
       "      <td>4.897044</td>\n",
       "    </tr>\n",
       "    <tr>\n",
       "      <th>7557</th>\n",
       "      <td>15.177512</td>\n",
       "      <td>13.738440</td>\n",
       "      <td>7.043751</td>\n",
       "      <td>13.102212</td>\n",
       "      <td>17.417942</td>\n",
       "      <td>6.477584</td>\n",
       "      <td>17.095762</td>\n",
       "      <td>8.496915</td>\n",
       "      <td>10.990621</td>\n",
       "      <td>12.939785</td>\n",
       "      <td>...</td>\n",
       "      <td>8.340971</td>\n",
       "      <td>12.323093</td>\n",
       "      <td>12.494097</td>\n",
       "      <td>19.483966</td>\n",
       "      <td>10.183564</td>\n",
       "      <td>22.458175</td>\n",
       "      <td>30.326832</td>\n",
       "      <td>5.621498</td>\n",
       "      <td>12.995128</td>\n",
       "      <td>4.964084</td>\n",
       "    </tr>\n",
       "    <tr>\n",
       "      <th>7558</th>\n",
       "      <td>15.330981</td>\n",
       "      <td>13.708830</td>\n",
       "      <td>7.038211</td>\n",
       "      <td>13.151718</td>\n",
       "      <td>17.470599</td>\n",
       "      <td>6.487290</td>\n",
       "      <td>16.977758</td>\n",
       "      <td>8.420851</td>\n",
       "      <td>10.888101</td>\n",
       "      <td>13.032973</td>\n",
       "      <td>...</td>\n",
       "      <td>8.363106</td>\n",
       "      <td>12.358473</td>\n",
       "      <td>12.505053</td>\n",
       "      <td>19.621043</td>\n",
       "      <td>10.328272</td>\n",
       "      <td>22.774489</td>\n",
       "      <td>30.055585</td>\n",
       "      <td>5.658289</td>\n",
       "      <td>13.078240</td>\n",
       "      <td>4.966424</td>\n",
       "    </tr>\n",
       "    <tr>\n",
       "      <th>7559</th>\n",
       "      <td>15.247704</td>\n",
       "      <td>13.672925</td>\n",
       "      <td>7.101012</td>\n",
       "      <td>13.252124</td>\n",
       "      <td>17.570481</td>\n",
       "      <td>6.403013</td>\n",
       "      <td>17.077302</td>\n",
       "      <td>8.521628</td>\n",
       "      <td>10.773828</td>\n",
       "      <td>12.927884</td>\n",
       "      <td>...</td>\n",
       "      <td>8.216022</td>\n",
       "      <td>12.349652</td>\n",
       "      <td>12.489294</td>\n",
       "      <td>19.596308</td>\n",
       "      <td>10.443810</td>\n",
       "      <td>22.852504</td>\n",
       "      <td>30.026844</td>\n",
       "      <td>5.669949</td>\n",
       "      <td>13.204933</td>\n",
       "      <td>4.931674</td>\n",
       "    </tr>\n",
       "    <tr>\n",
       "      <th>7560</th>\n",
       "      <td>15.231193</td>\n",
       "      <td>13.684642</td>\n",
       "      <td>7.018139</td>\n",
       "      <td>13.401250</td>\n",
       "      <td>17.555389</td>\n",
       "      <td>6.386815</td>\n",
       "      <td>17.200155</td>\n",
       "      <td>8.572956</td>\n",
       "      <td>10.667610</td>\n",
       "      <td>12.982949</td>\n",
       "      <td>...</td>\n",
       "      <td>8.269920</td>\n",
       "      <td>12.363896</td>\n",
       "      <td>12.494857</td>\n",
       "      <td>19.704142</td>\n",
       "      <td>10.440594</td>\n",
       "      <td>22.806867</td>\n",
       "      <td>30.199049</td>\n",
       "      <td>5.665611</td>\n",
       "      <td>13.287779</td>\n",
       "      <td>4.974185</td>\n",
       "    </tr>\n",
       "  </tbody>\n",
       "</table>\n",
       "<p>7561 rows × 500 columns</p>\n",
       "</div>"
      ],
      "text/plain": [
       "            0          1         2          3          4         5    \\\n",
       "0      1.000000   1.000000  1.000000   1.000000   1.000000  1.000000   \n",
       "1      1.009035   1.019800  1.007274   0.993537   0.999989  1.006793   \n",
       "2      1.015749   1.016643  1.021442   0.987915   1.000572  1.007587   \n",
       "3      0.991994   1.011483  1.030600   0.997095   0.997604  1.005709   \n",
       "4      0.987360   1.008866  1.034499   1.000035   0.996255  1.003667   \n",
       "...         ...        ...       ...        ...        ...       ...   \n",
       "7556  15.161399  13.710953  7.014478  13.250531  17.253323  6.504709   \n",
       "7557  15.177512  13.738440  7.043751  13.102212  17.417942  6.477584   \n",
       "7558  15.330981  13.708830  7.038211  13.151718  17.470599  6.487290   \n",
       "7559  15.247704  13.672925  7.101012  13.252124  17.570481  6.403013   \n",
       "7560  15.231193  13.684642  7.018139  13.401250  17.555389  6.386815   \n",
       "\n",
       "            6         7          8          9    ...       490        491  \\\n",
       "0      1.000000  1.000000   1.000000   1.000000  ...  1.000000   1.000000   \n",
       "1      0.987234  0.991026   0.999287   0.989965  ...  1.008802   0.990631   \n",
       "2      0.989688  0.995665   1.004104   0.985250  ...  1.010723   0.982956   \n",
       "3      0.994743  0.997920   0.994627   0.997900  ...  1.012315   0.989154   \n",
       "4      0.994341  0.979276   0.999065   0.996478  ...  1.016074   0.968970   \n",
       "...         ...       ...        ...        ...  ...       ...        ...   \n",
       "7556  17.273753  8.488013  10.957276  13.189109  ...  8.223420  12.288181   \n",
       "7557  17.095762  8.496915  10.990621  12.939785  ...  8.340971  12.323093   \n",
       "7558  16.977758  8.420851  10.888101  13.032973  ...  8.363106  12.358473   \n",
       "7559  17.077302  8.521628  10.773828  12.927884  ...  8.216022  12.349652   \n",
       "7560  17.200155  8.572956  10.667610  12.982949  ...  8.269920  12.363896   \n",
       "\n",
       "            492        493        494        495        496       497  \\\n",
       "0      1.000000   1.000000   1.000000   1.000000   1.000000  1.000000   \n",
       "1      0.998367   0.996306   1.005638   0.999298   1.003740  0.995918   \n",
       "2      0.998577   0.981389   1.018035   1.000601   1.002730  0.980490   \n",
       "3      0.981850   0.971472   1.006515   1.002006   1.004207  0.984857   \n",
       "4      0.987125   0.972621   1.010508   1.005873   1.004374  0.987862   \n",
       "...         ...        ...        ...        ...        ...       ...   \n",
       "7556  12.515016  19.375254  10.173651  22.237832  29.862674  5.580458   \n",
       "7557  12.494097  19.483966  10.183564  22.458175  30.326832  5.621498   \n",
       "7558  12.505053  19.621043  10.328272  22.774489  30.055585  5.658289   \n",
       "7559  12.489294  19.596308  10.443810  22.852504  30.026844  5.669949   \n",
       "7560  12.494857  19.704142  10.440594  22.806867  30.199049  5.665611   \n",
       "\n",
       "            498       499  \n",
       "0      1.000000  1.000000  \n",
       "1      0.997987  0.987705  \n",
       "2      1.011566  0.984374  \n",
       "3      1.011721  0.987595  \n",
       "4      1.008460  1.000726  \n",
       "...         ...       ...  \n",
       "7556  13.105158  4.897044  \n",
       "7557  12.995128  4.964084  \n",
       "7558  13.078240  4.966424  \n",
       "7559  13.204933  4.931674  \n",
       "7560  13.287779  4.974185  \n",
       "\n",
       "[7561 rows x 500 columns]"
      ]
     },
     "execution_count": 18,
     "metadata": {},
     "output_type": "execute_result"
    }
   ],
   "source": [
    "# Run Monte Carlo simulations to forecast 30 year cumulative returns\n",
    "MC_thirtyyears.calc_cumulative_return()"
   ]
  },
  {
   "cell_type": "code",
   "execution_count": null,
   "metadata": {},
   "outputs": [
    {
     "data": {
      "image/png": "[encoded data removed]",
      "text/plain": [
       "<Figure size 432x288 with 1 Axes>"
      ]
     },
     "metadata": {
      "needs_background": "light"
     },
     "output_type": "display_data"
    }
   ],
   "source": [
    "# Plot simulation outcomes\n",
    "line_plot = MC_thirtyyears.plot_simulation()"
   ]
  },
  {
   "cell_type": "code",
   "execution_count": null,
   "metadata": {},
   "outputs": [
    {
     "data": {
      "image/png": "[encoded data removed]",
      "text/plain": [
       "<Figure size 432x288 with 1 Axes>"
      ]
     },
     "metadata": {
      "needs_background": "light"
     },
     "output_type": "display_data"
    }
   ],
   "source": [
    "# Plot probability distribution and confidence intervals\n",
    "dist_plot = MC_thirtyyears.plot_distribution()"
   ]
  },
  {
   "cell_type": "markdown",
   "metadata": {},
   "source": [
    "### Retirement Analysis"
   ]
  },
  {
   "cell_type": "code",
   "execution_count": null,
   "metadata": {},
   "outputs": [
    {
     "name": "stdout",
     "output_type": "stream",
     "text": [
      "count           500.000000\n",
      "mean             22.130012\n",
      "std              16.088798\n",
      "min               2.342293\n",
      "25%              10.465170\n",
      "50%              17.476764\n",
      "75%              29.550007\n",
      "max             104.663919\n",
      "95% CI Lower      4.779747\n",
      "95% CI Upper     64.053604\n",
      "Name: 7560, dtype: float64\n"
     ]
    }
   ],
   "source": [
    "# Fetch summary statistics from the Monte Carlo simulation results\n",
    "summary_stats = MC_thirtyyears.summarize_cumulative_return()\n",
    "\n",
    "# Print summary statistics\n",
    "print(summary_stats)"
   ]
  },
  {
   "cell_type": "markdown",
   "metadata": {},
   "source": [
    "### Calculate the expected portfolio return at the `95%` lower and upper confidence intervals based on a `$20,000` initial investment."
   ]
  },
  {
   "cell_type": "code",
   "execution_count": null,
   "metadata": {},
   "outputs": [
    {
     "name": "stdout",
     "output_type": "stream",
     "text": [
      "There is a 95% chance that an initial investment of $20000 in the portfolio over the next 30 years will end within in the range of $95594.94 and $1281072.08\n"
     ]
    }
   ],
   "source": [
    "# Set initial investment\n",
    "initial_investment = 20000\n",
    "\n",
    "# Use the lower and upper `95%` confidence intervals to calculate the range of the possible outcomes of our $20,000\n",
    "ci_lower = round(summary_stats[8]*20000,2)\n",
    "ci_upper = round(summary_stats[9]*20000,2)\n",
    "\n",
    "# Print results\n",
    "print(f\"There is a 95% chance that an initial investment of ${initial_investment} in the portfolio\"\n",
    "      f\" over the next 30 years will end within in the range of\"\n",
    "      f\" ${ci_lower} and ${ci_upper}\")"
   ]
  },
  {
   "cell_type": "markdown",
   "metadata": {},
   "source": [
    "### Calculate the expected portfolio return at the `95%` lower and upper confidence intervals based on a `50%` increase in the initial investment."
   ]
  },
  {
   "cell_type": "code",
   "execution_count": null,
   "metadata": {},
   "outputs": [],
   "source": [
    "# Set initial investment\n",
    "initial_investment = 20000 * 1.5\n",
    "\n",
    "# Use the lower and upper `95%` confidence intervals to calculate the range of the possible outcomes of our $30,000\n",
    "ci_lower = round(summary_stats[8]*30000,2)\n",
    "ci_upper = round(summary_stats[9]*30000,2)\n",
    "\n",
    "\n",
    "# Print results\n",
    "print(f\"There is a 95% chance that an initial investment of ${initial_investment} in the portfolio\"\n",
    "      f\" over the next 30 years will end within in the range of\"\n",
    "      f\" ${ci_lower} and ${ci_upper}\")"
   ]
  }
 ],
 "metadata": {
  "kernelspec": {
   "display_name": "Python 3",
   "language": "python",
   "name": "python3"
  },
  "language_info": {
   "codemirror_mode": {
    "name": "ipython",
    "version": 3
   },
   "file_extension": ".py",
   "mimetype": "text/x-python",
   "name": "python",
   "nbconvert_exporter": "python",
   "pygments_lexer": "ipython3",
   "version": "3.7.11"
  },
  "nteract": {
   "version": "0.28.0"
  }
 },
 "nbformat": 4,
 "nbformat_minor": 4
}
